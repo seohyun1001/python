{
 "cells": [
  {
   "cell_type": "code",
   "execution_count": 10,
   "metadata": {},
   "outputs": [],
   "source": [
    "a=3\n",
    "b=4"
   ]
  },
  {
   "cell_type": "code",
   "execution_count": 11,
   "metadata": {},
   "outputs": [
    {
     "name": "stdout",
     "output_type": "stream",
     "text": [
      "7\n",
      "-1\n",
      "12\n",
      "0.75\n"
     ]
    }
   ],
   "source": [
    "print(a+b)\n",
    "print(a-b)\n",
    "print(a*b)\n",
    "print(a/b)"
   ]
  },
  {
   "cell_type": "code",
   "execution_count": 12,
   "metadata": {},
   "outputs": [
    {
     "name": "stdout",
     "output_type": "stream",
     "text": [
      "0.75\n",
      "0\n",
      "3\n"
     ]
    }
   ],
   "source": [
    "print(a/b)\n",
    "print(a//b)\n",
    "print(a%b)"
   ]
  },
  {
   "cell_type": "code",
   "execution_count": 13,
   "metadata": {},
   "outputs": [
    {
     "name": "stdout",
     "output_type": "stream",
     "text": [
      "81\n"
     ]
    }
   ],
   "source": [
    "print(a**b)"
   ]
  },
  {
   "cell_type": "code",
   "execution_count": 14,
   "metadata": {},
   "outputs": [
    {
     "name": "stdout",
     "output_type": "stream",
     "text": [
      "4\n",
      "3\n"
     ]
    }
   ],
   "source": [
    "a+=1\n",
    "print(a)\n",
    "a-=1\n",
    "print(a)"
   ]
  },
  {
   "cell_type": "code",
   "execution_count": 16,
   "metadata": {},
   "outputs": [
    {
     "name": "stdout",
     "output_type": "stream",
     "text": [
      "3 4\n",
      "3 4\n"
     ]
    }
   ],
   "source": [
    "print(a,b); print(a, b)"
   ]
  },
  {
   "cell_type": "code",
   "execution_count": 19,
   "metadata": {},
   "outputs": [
    {
     "name": "stdout",
     "output_type": "stream",
     "text": [
      "0\n",
      "7\n",
      "7\n",
      "-4\n",
      "-3\n"
     ]
    }
   ],
   "source": [
    "print(a&b)\n",
    "print(a|b)\n",
    "print(a^b)\n",
    "print(~a)\n",
    "print(~a+1)"
   ]
  },
  {
   "cell_type": "code",
   "execution_count": 21,
   "metadata": {},
   "outputs": [
    {
     "name": "stdout",
     "output_type": "stream",
     "text": [
      "12\n",
      "0\n",
      "2\n"
     ]
    }
   ],
   "source": [
    "print(a<<2)\n",
    "print(a>>2)\n",
    "print(10>>2)"
   ]
  },
  {
   "cell_type": "markdown",
   "metadata": {},
   "source": [
    "->\n",
    "3을 2진수로 변환하면 11이 되는데, a<<2이면 a는 1100이 된다 1100은 10진수로 12임\n",
    "a>>2는 11을 00으로 변환시키기 때문에 a>>2는 0이 된다\n",
    "10>>2의 경우도 1010인 10을 0010으로 변환시켜 10>>2는 2가 된다"
   ]
  },
  {
   "cell_type": "code",
   "execution_count": 22,
   "metadata": {},
   "outputs": [
    {
     "name": "stdout",
     "output_type": "stream",
     "text": [
      "10 10.0\n",
      "10 10.0 10\n"
     ]
    }
   ],
   "source": [
    "a=10\n",
    "b=float(a)\n",
    "print(a,b)\n",
    "c=int(b)\n",
    "print(a,b,c)"
   ]
  },
  {
   "cell_type": "code",
   "execution_count": 23,
   "metadata": {},
   "outputs": [
    {
     "name": "stdout",
     "output_type": "stream",
     "text": [
      "True\n",
      "True\n"
     ]
    }
   ],
   "source": [
    "print(1==True)\n",
    "print(0==False)"
   ]
  },
  {
   "cell_type": "code",
   "execution_count": 25,
   "metadata": {},
   "outputs": [
    {
     "name": "stdout",
     "output_type": "stream",
     "text": [
      "10.5 6.5 10.5 6.5\n",
      "<class 'str'> <class 'float'> <class 'str'> <class 'float'>\n"
     ]
    }
   ],
   "source": [
    "a='10.5'\n",
    "b=\"6.5\"\n",
    "fa=float(a)\n",
    "fb=float(b)\n",
    "print(a,b,fa,fb)\n",
    "print(type(a),type(fa),type(b),type(fb))"
   ]
  },
  {
   "cell_type": "code",
   "execution_count": 27,
   "metadata": {},
   "outputs": [
    {
     "name": "stdout",
     "output_type": "stream",
     "text": [
      "10.56.5\n",
      "17.0\n"
     ]
    }
   ],
   "source": [
    "print(a+b)\n",
    "print(fa+fb)"
   ]
  },
  {
   "cell_type": "markdown",
   "metadata": {},
   "source": [
    "-> 파이썬에서는 같은 타입끼리만 +연산이 가능함(문자열 + 문자열) (숫자 + 숫자) / (x) : (문자열 + 숫자)"
   ]
  },
  {
   "cell_type": "code",
   "execution_count": 30,
   "metadata": {},
   "outputs": [
    {
     "name": "stdout",
     "output_type": "stream",
     "text": [
      "abcdabcdabcd\n",
      "False\n",
      "True\n"
     ]
    }
   ],
   "source": [
    "s1=\"abcd\"\n",
    "print(s1*3)\n",
    "s2=\"xyz\"\n",
    "print('a' in s2)\n",
    "print('a' not in s2)"
   ]
  },
  {
   "cell_type": "code",
   "execution_count": 31,
   "metadata": {},
   "outputs": [
    {
     "name": "stdout",
     "output_type": "stream",
     "text": [
      "김서현\n"
     ]
    }
   ],
   "source": [
    "name=input(\"이름을 입력하세요\")\n",
    "print(name)"
   ]
  },
  {
   "cell_type": "code",
   "execution_count": 32,
   "metadata": {},
   "outputs": [
    {
     "name": "stdout",
     "output_type": "stream",
     "text": [
      "섭씨온도 :  10.0\n",
      "화씨온도 :  50.0\n"
     ]
    }
   ],
   "source": [
    "c = float(input(\"섭씨 온도를 입력하세요\"))\n",
    "f = c * 1.8 + 32\n",
    "print('섭씨온도 : ', c)\n",
    "print('화씨온도 : ', f)"
   ]
  },
  {
   "cell_type": "code",
   "execution_count": 35,
   "metadata": {},
   "outputs": [
    {
     "name": "stdout",
     "output_type": "stream",
     "text": [
      "a is 5\n",
      "-------------------\n"
     ]
    }
   ],
   "source": [
    "a = 6\n",
    "if(a==5):\n",
    "    print(\"yes\")\n",
    "print(\"a is 5\")\n",
    "print(\"-------------------\")"
   ]
  },
  {
   "cell_type": "markdown",
   "metadata": {},
   "source": [
    "-> if문에서는 들여쓰기가 중요함!"
   ]
  },
  {
   "cell_type": "code",
   "execution_count": 36,
   "metadata": {},
   "outputs": [
    {
     "name": "stdout",
     "output_type": "stream",
     "text": [
      "a is not 5\n",
      "end if\n"
     ]
    }
   ],
   "source": [
    "if(a==5):\n",
    "    print(\"yes\")\n",
    "    print(\"a is 5\")\n",
    "else:\n",
    "    print(\"a is not 5\")\n",
    "print(\"end if\")"
   ]
  },
  {
   "cell_type": "code",
   "execution_count": 42,
   "metadata": {},
   "outputs": [
    {
     "name": "stdout",
     "output_type": "stream",
     "text": [
      "B\n",
      "-------------------\n"
     ]
    }
   ],
   "source": [
    "score = float(input(\"input the score\"))\n",
    "if(score >= 90):\n",
    "    print(\"A\")\n",
    "elif(score >= 80):\n",
    "    print(\"B\")\n",
    "elif(score >= 70) :\n",
    "    print(\"C\")\n",
    "elif(score >= 60) :\n",
    "    print(\"D\")\n",
    "else:\n",
    "    print(\"F\")\n",
    "print(\"-------------------\")"
   ]
  },
  {
   "cell_type": "code",
   "execution_count": 45,
   "metadata": {},
   "outputs": [
    {
     "name": "stdout",
     "output_type": "stream",
     "text": [
      "합격\n",
      "1과목 :  69.0\n",
      "2과목 :  73.0\n",
      "평균 :  71.0\n"
     ]
    }
   ],
   "source": [
    "#평균이 70점 이상이고, 각 과목의 점수가 60점 이상일 때 합격\n",
    "score1 = float(input(\"점수1\"))\n",
    "score2 = float(input(\"점수2\"))\n",
    "\n",
    "avg = (score1 + score2) / 2\n",
    "if(avg >= 70 and score1 >= 60 and score2 >= 60):\n",
    "    print(\"합격\")\n",
    "    print(\"1과목 : \", score1)\n",
    "    print(\"2과목 : \", score2)\n",
    "    print(\"평균 : \", avg)\n",
    "\n",
    "else:\n",
    "    print(\"불합격\")\n",
    "    print(\"1과목 : \", score1)\n",
    "    print(\"2과목 : \", score2)\n",
    "    print(\"평균 : \", avg)"
   ]
  },
  {
   "cell_type": "code",
   "execution_count": 52,
   "metadata": {},
   "outputs": [
    {
     "name": "stdout",
     "output_type": "stream",
     "text": [
      "나이 :  27.0\n",
      "성인\n",
      "----------------\n"
     ]
    }
   ],
   "source": [
    "year = float(input(\"태어난 연도 입력\"))\n",
    "age = 2024 - year\n",
    "\n",
    "if(age >= 19):\n",
    "    print(\"나이 : \", age)\n",
    "    print(\"성인\")\n",
    "elif(age >= 13):\n",
    "    print(\"나이 : \", age)\n",
    "    print(\"청소년\")\n",
    "elif(age >=7):\n",
    "    print(\"나이 : \", age)\n",
    "    print(\"초등학생\")\n",
    "else:\n",
    "    print(\"나이 : \", age)\n",
    "    print(\"미취학 아동\")\n",
    "print(\"----------------\")\n"
   ]
  },
  {
   "cell_type": "code",
   "execution_count": 55,
   "metadata": {},
   "outputs": [
    {
     "name": "stdout",
     "output_type": "stream",
     "text": [
      "1\n",
      "2\n",
      "3\n",
      "4\n",
      "5\n",
      "6\n",
      "7\n",
      "8\n",
      "9\n",
      "-----\n"
     ]
    }
   ],
   "source": [
    "i = 1\n",
    "while i < 10:\n",
    "    print(i)\n",
    "    i += 1\n",
    "print(\"-----\")"
   ]
  },
  {
   "cell_type": "code",
   "execution_count": 63,
   "metadata": {},
   "outputs": [
    {
     "name": "stdout",
     "output_type": "stream",
     "text": [
      "1\n",
      "3\n",
      "5\n",
      "7\n",
      "9\n"
     ]
    }
   ],
   "source": [
    "# for i in range(start, stop, step)\n",
    "# step은 1일 경우 생략 가능\n",
    "for i in range(1, 10, 2):\n",
    "    print(i)\n"
   ]
  },
  {
   "cell_type": "code",
   "execution_count": 57,
   "metadata": {},
   "outputs": [
    {
     "name": "stdout",
     "output_type": "stream",
     "text": [
      "1\n",
      "2\n",
      "3\n",
      "4\n",
      "5\n"
     ]
    }
   ],
   "source": [
    "# for i in collection:\n",
    "a = [1,2,3,4,5]\n",
    "for i in a:\n",
    "    print(i)"
   ]
  },
  {
   "cell_type": "code",
   "execution_count": 64,
   "metadata": {},
   "outputs": [
    {
     "name": "stdout",
     "output_type": "stream",
     "text": [
      "a\n",
      "b\n",
      "c\n",
      "d\n",
      "e\n",
      "f\n"
     ]
    }
   ],
   "source": [
    "list = \"abcdef\"\n",
    "for i in list:\n",
    "    print(i)"
   ]
  },
  {
   "cell_type": "code",
   "execution_count": 66,
   "metadata": {},
   "outputs": [
    {
     "name": "stdout",
     "output_type": "stream",
     "text": [
      "0\n",
      "1\n",
      "2\n",
      "3\n",
      "4\n",
      "End of Program\n"
     ]
    }
   ],
   "source": [
    "# 반복문 제어 : break\n",
    "for i in range(10):\n",
    "    if i == 5:break\n",
    "    # -> u가 5일 때 반복 종료\n",
    "    print(i)\n",
    "print(\"End of Program\")"
   ]
  },
  {
   "cell_type": "code",
   "execution_count": 67,
   "metadata": {},
   "outputs": [
    {
     "name": "stdout",
     "output_type": "stream",
     "text": [
      "0\n",
      "1\n",
      "2\n",
      "3\n",
      "4\n",
      "6\n",
      "7\n",
      "8\n",
      "9\n",
      "End of Program\n"
     ]
    }
   ],
   "source": [
    "# 반복문 제어 : continue\n",
    "for i in range(10):\n",
    "    if i == 5: continue\n",
    "    # -> i가 5가 되면 출력하지 않음\n",
    "    print(i)\n",
    "print(\"End of Program\")"
   ]
  },
  {
   "cell_type": "code",
   "execution_count": 1,
   "metadata": {},
   "outputs": [
    {
     "name": "stdout",
     "output_type": "stream",
     "text": [
      "음료 목록 : 1.오렌지주스(100), 2.커피(200), 3.콜라(300), 4.종료\n",
      "음료가 곧 제공됩니다.\n",
      "잔액: 900\n",
      "음료 목록 : 1.오렌지주스(100), 2.커피(200), 3.콜라(300), 4.종료\n",
      "음료가 곧 제공됩니다.\n",
      "잔액: 800\n",
      "음료 목록 : 1.오렌지주스(100), 2.커피(200), 3.콜라(300), 4.종료\n",
      "음료가 곧 제공됩니다.\n",
      "잔액: 2700\n",
      "음료 목록 : 1.오렌지주스(100), 2.커피(200), 3.콜라(300), 4.종료\n",
      "종료합니다\n",
      "종료합니다\n"
     ]
    }
   ],
   "source": [
    "while True:\n",
    "    print(\"음료 목록 : 1.오렌지주스(100), 2.커피(200), 3.콜라(300), 4.종료\")\n",
    "    coin = int(input(\"동전을 넣어주세요\"))\n",
    "    drink = int(input(\"음료를 선택하세요\"))\n",
    "\n",
    "    if drink == 1:\n",
    "        if coin >= 100:\n",
    "            remain = coin - 100\n",
    "            print(\"음료가 곧 제공됩니다.\")\n",
    "            print(\"잔액:\",remain)\n",
    "        else:\n",
    "            print(\"잔액이 부족합니다\")\n",
    "    elif drink == 2:\n",
    "        if coin >= 200:\n",
    "            remain = coin - 200\n",
    "            print(\"음료가 곧 제공됩니다.\")\n",
    "            print(\"잔액:\",remain)\n",
    "        else:\n",
    "            print(\"잔액이 부족합니다\")\n",
    "    elif drink == 3:\n",
    "        if coin >= 300:\n",
    "            remain = coin - 300\n",
    "            print(\"음료가 곧 제공됩니다.\")\n",
    "            print(\"잔액:\",remain)\n",
    "        else:\n",
    "            print(\"잔액이 부족합니다\")\n",
    "    elif drink == 4:\n",
    "        print(\"종료합니다\")\n",
    "        break\n",
    "    else:\n",
    "        print(\"없는 메뉴입니다\")\n",
    "print(\"종료합니다\")"
   ]
  },
  {
   "cell_type": "code",
   "execution_count": 69,
   "metadata": {},
   "outputs": [
    {
     "name": "stdout",
     "output_type": "stream",
     "text": [
      "9\n",
      "3\n"
     ]
    }
   ],
   "source": [
    "def f(x):\n",
    "    y = x\n",
    "    x = 5\n",
    "    return y * y\n",
    "\n",
    "x = 3\n",
    "print(f(x))\n",
    "print(x)"
   ]
  },
  {
   "cell_type": "code",
   "execution_count": 70,
   "metadata": {},
   "outputs": [
    {
     "name": "stdout",
     "output_type": "stream",
     "text": [
      "[0, 1]\n"
     ]
    }
   ],
   "source": [
    "def spam(eggs):\n",
    "    eggs.append(1)\n",
    "    eggs = [2, 3]\n",
    "\n",
    "ham = [0]\n",
    "spam(ham)\n",
    "print(ham)"
   ]
  }
 ],
 "metadata": {
  "kernelspec": {
   "display_name": "base",
   "language": "python",
   "name": "python3"
  },
  "language_info": {
   "codemirror_mode": {
    "name": "ipython",
    "version": 3
   },
   "file_extension": ".py",
   "mimetype": "text/x-python",
   "name": "python",
   "nbconvert_exporter": "python",
   "pygments_lexer": "ipython3",
   "version": "3.12.4"
  }
 },
 "nbformat": 4,
 "nbformat_minor": 2
}
