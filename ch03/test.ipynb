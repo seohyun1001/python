{
 "cells": [
  {
   "cell_type": "code",
   "execution_count": 1,
   "metadata": {},
   "outputs": [
    {
     "name": "stdout",
     "output_type": "stream",
     "text": [
      "9\n",
      "3\n"
     ]
    }
   ],
   "source": [
    "def f(x):\n",
    "    y = x\n",
    "    x = 5\n",
    "    return y * y\n",
    "\n",
    "x = 3\n",
    "print(f(x))\n",
    "print(x)"
   ]
  },
  {
   "cell_type": "code",
   "execution_count": null,
   "metadata": {},
   "outputs": [],
   "source": [
    "def spam(eggs):\n",
    "    eggs.append(1)\n",
    "    eggs = [2, 3]\n",
    "\n",
    "ham = [0]\n",
    "spam(ham)\n",
    "print(ham)"
   ]
  },
  {
   "cell_type": "code",
   "execution_count": 4,
   "metadata": {},
   "outputs": [
    {
     "name": "stdout",
     "output_type": "stream",
     "text": [
      "10\n",
      "In function :  20\n",
      "In main :  10\n"
     ]
    }
   ],
   "source": [
    "def test(t):\n",
    "    print(x)\n",
    "    # -> 전역변수로 사용된 x를 불러옴\n",
    "    t = 20\n",
    "    print('In function : ', t)\n",
    "\n",
    "x = 10\n",
    "test(x)\n",
    "print('In main : ', x)\n",
    "# print('In main : ', t)\n",
    "# -> test(t)라는 함수 안에 있어서 함수 밖에서는 사용 못함"
   ]
  },
  {
   "cell_type": "code",
   "execution_count": 8,
   "metadata": {},
   "outputs": [
    {
     "name": "stdout",
     "output_type": "stream",
     "text": [
      "In function :  I love London!\n",
      "In main :  I love Paris!\n"
     ]
    }
   ],
   "source": [
    "def f():\n",
    "    s = \"I love London!\"\n",
    "    print('In function : ',s)\n",
    "\n",
    "s = \"I love Paris!\"\n",
    "f()\n",
    "# -> \n",
    "print('In main : ',s)"
   ]
  },
  {
   "cell_type": "code",
   "execution_count": 10,
   "metadata": {},
   "outputs": [
    {
     "name": "stdout",
     "output_type": "stream",
     "text": [
      "In function :  I love London!\n",
      "In main :  I love London!\n"
     ]
    }
   ],
   "source": [
    "def f():\n",
    "    global s\n",
    "    s = \"I love London!\"\n",
    "    print('In function : ',s)\n",
    "\n",
    "s = \"I love Paris!\"\n",
    "f()\n",
    "# -> \n",
    "print('In main : ',s)"
   ]
  },
  {
   "cell_type": "code",
   "execution_count": 14,
   "metadata": {},
   "outputs": [
    {
     "name": "stdout",
     "output_type": "stream",
     "text": [
      "1 2 3\n",
      "20 10 30\n"
     ]
    }
   ],
   "source": [
    "def f(a, b, c):\n",
    "    print(a, b, c)\n",
    "\n",
    "f(1,2,3)\n",
    "f(b=10, c=30, a=20)"
   ]
  },
  {
   "cell_type": "code",
   "execution_count": 16,
   "metadata": {},
   "outputs": [
    {
     "name": "stdout",
     "output_type": "stream",
     "text": [
      "10 20 10\n",
      "10 20 30\n"
     ]
    }
   ],
   "source": [
    "# 디폴트 인수를 지정해야 할 때는 항상 끝에서부터 써야 함\n",
    "def f1(a, b, c=10):\n",
    "    print(a, b, c)\n",
    "\n",
    "f1(10, 20)\n",
    "f1(10, 20, 30)"
   ]
  },
  {
   "cell_type": "code",
   "execution_count": 22,
   "metadata": {},
   "outputs": [
    {
     "name": "stdout",
     "output_type": "stream",
     "text": [
      "1 2 (3,)\n",
      "1 2 3\n",
      "(3,)\n",
      "3\n",
      "1 2 (3, 4, 5)\n",
      "1 2 3 4 5\n",
      "(3, 4, 5)\n",
      "3 4 5\n",
      "1 2 (3, 4, 5, 6, 7)\n",
      "1 2 3 4 5 6 7\n",
      "(3, 4, 5, 6, 7)\n",
      "3 4 5 6 7\n"
     ]
    }
   ],
   "source": [
    "# 가변 인수 * (asterisk)\n",
    "def func1(a, b, *c):\n",
    "    print(a, b, c)\n",
    "    print(a, b, *c)\n",
    "    print(c)\n",
    "    print(*c)\n",
    "\n",
    "func1(1, 2, 3)\n",
    "func1(1, 2, 3, 4, 5)\n",
    "func1(1, 2, 3, 4, 5, 6, 7)"
   ]
  },
  {
   "cell_type": "code",
   "execution_count": 24,
   "metadata": {},
   "outputs": [
    {
     "ename": "SyntaxError",
     "evalue": "'tuple' is an illegal expression for augmented assignment (980664481.py, line 2)",
     "output_type": "error",
     "traceback": [
      "\u001b[1;36m  Cell \u001b[1;32mIn[24], line 2\u001b[1;36m\u001b[0m\n\u001b[1;33m    a, b, c*=arg\u001b[0m\n\u001b[1;37m    ^\u001b[0m\n\u001b[1;31mSyntaxError\u001b[0m\u001b[1;31m:\u001b[0m 'tuple' is an illegal expression for augmented assignment\n"
     ]
    }
   ],
   "source": [
    "def func2(*arg):\n",
    "    a, b, c*=arg\n",
    "    print(a,b,c)\n",
    "    print(a,b,*c)\n",
    "\n",
    "func2(1,2,3)\n",
    "func2(1,2,3,4,5)\n",
    "func2(1,2,3,4,5,6,7)"
   ]
  },
  {
   "cell_type": "code",
   "execution_count": 29,
   "metadata": {},
   "outputs": [
    {
     "name": "stdout",
     "output_type": "stream",
     "text": [
      "{'first': 10, 'second': 20, 'third': 30}\n",
      "first:10\n",
      "second:20\n",
      "third:30\n"
     ]
    }
   ],
   "source": [
    "def func3(**kwarg):\n",
    "    print(kwarg)\n",
    "    print(\"first:{first}\".format(**kwarg))\n",
    "    print(\"second:{second}\".format(**kwarg))\n",
    "    print(\"third:{third}\".format(**kwarg))\n",
    "\n",
    "func3(first=10, second=20, third=30)"
   ]
  },
  {
   "cell_type": "code",
   "execution_count": 30,
   "metadata": {},
   "outputs": [
    {
     "name": "stdout",
     "output_type": "stream",
     "text": [
      "H d\n",
      "H d\n"
     ]
    }
   ],
   "source": [
    "# 문자열 슬라이싱\n",
    "a = 'Hello world'\n",
    "print(a[0], a[10])\n",
    "print(a[-11], a[-1])"
   ]
  },
  {
   "cell_type": "code",
   "execution_count": 33,
   "metadata": {},
   "outputs": [
    {
     "name": "stdout",
     "output_type": "stream",
     "text": [
      "el o\n",
      "dlrow olleH\n",
      "Hello world\n",
      "Hlowrd\n",
      " world\n",
      "Hello\n"
     ]
    }
   ],
   "source": [
    "print(a[1:9:2]) #start:stop:step\n",
    "print(a[::-1])\n",
    "print(a[-50:50])\n",
    "print(a[::2])\n",
    "print(a[5:])\n",
    "print(a[:5])"
   ]
  },
  {
   "cell_type": "code",
   "execution_count": 35,
   "metadata": {},
   "outputs": [
    {
     "name": "stdout",
     "output_type": "stream",
     "text": [
      "team, lab\n",
      "teamteamlablablab\n"
     ]
    }
   ],
   "source": [
    "# 문자열 연산\n",
    "a = 'team'\n",
    "b = 'lab'\n",
    "print(a + \", \" + b)\n",
    "print(a*2 + b*3)"
   ]
  },
  {
   "cell_type": "code",
   "execution_count": 46,
   "metadata": {},
   "outputs": [
    {
     "name": "stdout",
     "output_type": "stream",
     "text": [
      "Teamlab X Inflearn\n",
      "TEAMLAB X INFLEARN\n",
      "teamlab x inflearn\n",
      "Teamlab x inflearn\n",
      "2\n",
      "1\n",
      "False\n",
      "True\n",
      "True\n",
      "['teAMlab', 'x', 'inFlEarN']\n"
     ]
    }
   ],
   "source": [
    "a = 'teAMlab x inFlEarN'\n",
    "print(a.title())\n",
    "print(a.upper())\n",
    "print(a.lower())\n",
    "print(a.capitalize())\n",
    "print(a.count('a'))\n",
    "print(a.count('A'))\n",
    "print(a.isdigit())\n",
    "print(a.startswith('te'))\n",
    "print(a.endswith('N'))\n",
    "print(a.split())"
   ]
  },
  {
   "cell_type": "code",
   "execution_count": 50,
   "metadata": {},
   "outputs": [],
   "source": [
    "f = open('yesterday.txt', 'r')\n",
    "yesterday_lyric = f.readlines()\n",
    "yesterday_lyric\n",
    "f.close()"
   ]
  },
  {
   "cell_type": "code",
   "execution_count": 51,
   "metadata": {},
   "outputs": [
    {
     "name": "stdout",
     "output_type": "stream",
     "text": [
      "Number of a word 'Yesterday' :  9\n"
     ]
    }
   ],
   "source": [
    "contents = \"\"\n",
    "for line in yesterday_lyric:\n",
    "    contents = contents + line.strip() + \"\\n\"\n",
    "\n",
    "n_of_yesterday = contents.upper().count(\"YESTERDAY\")\n",
    "print(\"Number of a word 'Yesterday' : \", n_of_yesterday)"
   ]
  },
  {
   "cell_type": "code",
   "execution_count": 53,
   "metadata": {},
   "outputs": [
    {
     "name": "stdout",
     "output_type": "stream",
     "text": [
      "홍길동 20 학생\n",
      "이름 :  홍길동  나이 :  20  직업 :  학생\n",
      "이름 : 홍길동, 나이 : 20, 직업 : 학생\n",
      "이름 : 홍길동, 나이 : 20, 직업 : 학생\n",
      "이름 : 홍길동, 직업 : 학생, 이름 : 홍길동\n"
     ]
    }
   ],
   "source": [
    "name = \"홍길동\"\n",
    "age = 20\n",
    "job = \"학생\"\n",
    "print(name, age, job)\n",
    "print('이름 : ', name, ' 나이 : ', age, ' 직업 : ', job)\n",
    "print('이름 : %s, 나이 : %d, 직업 : %s'%(name, age, job))\n",
    "print('이름 : {0}, 나이 : {1}, 직업 : {2}'.format(name, age, job))\n",
    "print('이름 : {0}, 직업 : {1}, 이름 : {0}'.format(name, job))"
   ]
  },
  {
   "cell_type": "code",
   "execution_count": 55,
   "metadata": {},
   "outputs": [
    {
     "name": "stdout",
     "output_type": "stream",
     "text": [
      "       홍길동\n",
      "        20\n",
      " 5.29\n"
     ]
    }
   ],
   "source": [
    "print('%10s'%(name))\n",
    "print('%10d'%age)\n",
    "print('%5.2f'%5.2948375)"
   ]
  },
  {
   "cell_type": "code",
   "execution_count": 56,
   "metadata": {},
   "outputs": [
    {
     "name": "stdout",
     "output_type": "stream",
     "text": [
      "       홍길동\n",
      "홍길동       20\n"
     ]
    }
   ],
   "source": [
    "print('{0:>10s}'.format(name))\n",
    "print(\"{0:<10s}{1}\".format(name, age))"
   ]
  },
  {
   "cell_type": "code",
   "execution_count": 58,
   "metadata": {},
   "outputs": [
    {
     "name": "stdout",
     "output_type": "stream",
     "text": [
      "홍길동  20   학생   \n"
     ]
    }
   ],
   "source": [
    "print(\"{name1:<5}{age1:<5}{job1:<5}\".format(name1 = name, age1 = age, job1 = job))"
   ]
  },
  {
   "cell_type": "code",
   "execution_count": 59,
   "metadata": {},
   "outputs": [
    {
     "name": "stdout",
     "output_type": "stream",
     "text": [
      "red black\n",
      "1 10\n"
     ]
    }
   ],
   "source": [
    "colors = ['red', 'green', 'blue', 'black']\n",
    "numbers = [1,2,3,4,5,6,7,8,9,10]\n",
    "print(colors[0], colors[3])\n",
    "print(numbers[0], numbers[9])"
   ]
  },
  {
   "cell_type": "code",
   "execution_count": 64,
   "metadata": {},
   "outputs": [
    {
     "data": {
      "text/plain": [
       "[10, 9, 8, 7, 6, 5, 4, 3, 2, 1]"
      ]
     },
     "execution_count": 64,
     "metadata": {},
     "output_type": "execute_result"
    }
   ],
   "source": [
    "start = 0\n",
    "stop = 10\n",
    "step = 1\n",
    "numbers[start:stop:step]\n",
    "numbers[:10:]\n",
    "numbers[::-1]"
   ]
  },
  {
   "cell_type": "code",
   "execution_count": 69,
   "metadata": {},
   "outputs": [
    {
     "name": "stdout",
     "output_type": "stream",
     "text": [
      "['red', 'blue', 'green', 'orange', 'black', 'white']\n",
      "['red', 'blue', 'green', 'pink']\n",
      "['red', 'blue', 'green', 'pink', 'orange', 'black', 'white']\n",
      "['red', 'purple', 'blue', 'green', 'pink', 'orange', 'black', 'white']\n",
      "['red', 'blue', 'green', 'pink', 'orange', 'black', 'white']\n",
      "['red', 'green', 'pink', 'orange', 'black', 'white']\n"
     ]
    }
   ],
   "source": [
    "# 연산\n",
    "color1 = ['red', 'blue', 'green']\n",
    "color2 = ['orange', 'black', 'white']\n",
    "print(color1 + color2)\n",
    "color1.append('pink')\n",
    "print(color1)\n",
    "color1.extend(color2)\n",
    "print(color1)\n",
    "color1.insert(1, 'purple')\n",
    "print(color1)\n",
    "color1.remove('purple')\n",
    "print(color1)\n",
    "del color1[1]\n",
    "print(color1)"
   ]
  }
 ],
 "metadata": {
  "kernelspec": {
   "display_name": "base",
   "language": "python",
   "name": "python3"
  },
  "language_info": {
   "codemirror_mode": {
    "name": "ipython",
    "version": 3
   },
   "file_extension": ".py",
   "mimetype": "text/x-python",
   "name": "python",
   "nbconvert_exporter": "python",
   "pygments_lexer": "ipython3",
   "version": "3.12.4"
  }
 },
 "nbformat": 4,
 "nbformat_minor": 2
}
