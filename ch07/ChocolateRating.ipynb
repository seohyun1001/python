{
 "cells": [
  {
   "cell_type": "code",
   "execution_count": 1,
   "metadata": {},
   "outputs": [],
   "source": [
    "import numpy as np\n",
    "import pandas as pd\n",
    "import matplotlib"
   ]
  },
  {
   "cell_type": "code",
   "execution_count": 3,
   "metadata": {},
   "outputs": [
    {
     "name": "stdout",
     "output_type": "stream",
     "text": [
      "차원 :  2\n",
      "모양 :  (1795, 4)\n",
      "원소의 수 :  7180\n",
      "[[1.000e+00 2.016e+03 6.300e-01 3.750e+00]\n",
      " [2.000e+00 2.015e+03 7.000e-01 2.750e+00]\n",
      " [3.000e+00 2.015e+03 7.000e-01 3.000e+00]\n",
      " ...\n",
      " [1.793e+03 2.011e+03 6.500e-01 3.500e+00]\n",
      " [1.794e+03 2.011e+03 6.200e-01 3.250e+00]\n",
      " [1.795e+03 2.010e+03 6.500e-01 3.000e+00]]\n"
     ]
    }
   ],
   "source": [
    "data = np.loadtxt('chocolate_rating.csv', delimiter = ',')\n",
    "print(\"차원 : \", data.ndim)\n",
    "print(\"모양 : \", data.shape)\n",
    "print(\"원소의 수 : \", data.size)\n",
    "print(data)"
   ]
  },
  {
   "cell_type": "code",
   "execution_count": 10,
   "metadata": {},
   "outputs": [
    {
     "name": "stdout",
     "output_type": "stream",
     "text": [
      "ratings_mean :  3.185933147632312\n",
      "high_level.size :  400\n",
      "우수 초콜릿의 수 :  100 100\n",
      "high_id : \n",
      " [  10   18   21   55   57   77   78   79   84   87   88   93  108  109\n",
      "  118  124  153  180  181  187  223  232  233  240  243  244  245  248\n",
      "  257  312  316  317  358  437  503  567  573  574  582  601  650  687\n",
      "  690  691  701  720  730  800  828  862  864  865  866  883  919  993\n",
      " 1088 1089 1118 1119 1120 1204 1241 1245 1247 1274 1277 1278 1289 1291\n",
      " 1293 1295 1323 1331 1336 1378 1394 1426 1428 1433 1479 1488 1513 1516\n",
      " 1529 1530 1531 1533 1536 1537 1544 1545 1664 1683 1686 1688 1694 1700\n",
      " 1740 1757]\n"
     ]
    }
   ],
   "source": [
    "# 모든 초콜릿의 평균 평점\n",
    "ratings_mean = data[:,3].mean()\n",
    "print('ratings_mean : ', ratings_mean)\n",
    "\n",
    "# 평점이 4점 이상인 초콜릿 골라 내기\n",
    "high_level = data[data[:, 3]>=4]\n",
    "print('high_level.size : ', high_level.size)\n",
    "\n",
    "# 우수 초콜릿의 id의 데이터 형을 정수로 변환\n",
    "high_id = high_level[:, 0].astype(np.int64)\n",
    "print('우수 초콜릿의 수 : ', len(high_id), high_id.size)\n",
    "print('high_id : \\n', high_id)"
   ]
  },
  {
   "cell_type": "code",
   "execution_count": 13,
   "metadata": {},
   "outputs": [
    {
     "name": "stdout",
     "output_type": "stream",
     "text": [
      "카카오 함유량 :  [0.6  0.63 0.64 0.65 0.66 0.67 0.68 0.69 0.7  0.71 0.72 0.73 0.74 0.75\n",
      " 0.78 0.8  0.88]\n",
      "함유량 별 빈도수 :  [ 1  3  4  2  1  3  2  2 45  1 11  1  4 17  1  1  1]\n",
      "0.6 : 1\n",
      "0.63 : 3\n",
      "0.64 : 4\n",
      "0.65 : 2\n",
      "0.66 : 1\n",
      "0.67 : 3\n",
      "0.68 : 2\n",
      "0.69 : 2\n",
      "0.7 : 45\n",
      "0.71 : 1\n",
      "0.72 : 11\n",
      "0.73 : 1\n",
      "0.74 : 4\n",
      "0.75 : 17\n",
      "0.78 : 1\n",
      "0.8 : 1\n",
      "0.88 : 1\n"
     ]
    }
   ],
   "source": [
    "# 우수 초콜릿의 카카오 함유량 분석\n",
    "high_kakao = high_level[:,2]\n",
    "# unique() : 배열에서 중복값 제거\n",
    "unique_values, value_counts = np.unique(high_kakao, return_counts=True)\n",
    "print('카카오 함유량 : ', unique_values)\n",
    "print('함유량 별 빈도수 : ', value_counts)\n",
    "\n",
    "for i in range(len(unique_values)) : \n",
    "    print(unique_values[i], ':', value_counts[i])"
   ]
  },
  {
   "cell_type": "code",
   "execution_count": 16,
   "metadata": {},
   "outputs": [
    {
     "name": "stdout",
     "output_type": "stream",
     "text": [
      "max_index :  8\n",
      "빈도수가 가장 높은 함유량 :  0.7\n",
      "우수 초콜릿 100 가지 중 45 가지의 카카오 함유량이 70.0입니다\n"
     ]
    }
   ],
   "source": [
    "# 우수 초콜릿 중 가장 빈도 수가 큰 카카오 함유량 구하기\n",
    "max_index = np.argmax(value_counts)\n",
    "print('max_index : ', max_index)\n",
    "print('빈도수가 가장 높은 함유량 : ', unique_values[max_index])\n",
    "print('우수 초콜릿 {} 가지 중 {} 가지의 카카오 함유량이 {}입니다'\n",
    "      .format(high_id.size, value_counts[max_index], unique_values[max_index]*100))"
   ]
  }
 ],
 "metadata": {
  "kernelspec": {
   "display_name": "base",
   "language": "python",
   "name": "python3"
  },
  "language_info": {
   "codemirror_mode": {
    "name": "ipython",
    "version": 3
   },
   "file_extension": ".py",
   "mimetype": "text/x-python",
   "name": "python",
   "nbconvert_exporter": "python",
   "pygments_lexer": "ipython3",
   "version": "3.12.4"
  }
 },
 "nbformat": 4,
 "nbformat_minor": 2
}
