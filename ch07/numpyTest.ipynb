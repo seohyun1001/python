{
 "cells": [
  {
   "cell_type": "code",
   "execution_count": 4,
   "metadata": {},
   "outputs": [],
   "source": [
    "import numpy as np\n",
    "import pandas as pd\n",
    "import matplotlib"
   ]
  },
  {
   "cell_type": "code",
   "execution_count": 6,
   "metadata": {},
   "outputs": [
    {
     "name": "stdout",
     "output_type": "stream",
     "text": [
      "[1 2 3 4 5]\n",
      "<class 'numpy.ndarray'>\n",
      "[1, 2, 3, 4, 5]\n",
      "<class 'list'>\n"
     ]
    }
   ],
   "source": [
    "list1 = [1,2,3,4,5]\n",
    "data = np.array(list1) # numpy 배열\n",
    "print(data) # 결과 : [1 2 3 4 5]\n",
    "print(type(data)) # <class 'numpy.ndarray'>\n",
    "print(list1) # [1, 2, 3, 4, 5]\n",
    "print(type(list1)) # <class 'list'>\n",
    "# 두 결과가 다름"
   ]
  },
  {
   "cell_type": "code",
   "execution_count": 11,
   "metadata": {},
   "outputs": [
    {
     "name": "stdout",
     "output_type": "stream",
     "text": [
      "<class 'numpy.ndarray'>\n",
      "[0.22476834 0.75002044 0.08794758 0.39738127 0.09013058 0.22467042\n",
      " 0.27266227 0.21456976 0.87214242 0.92325645 0.36991599 0.55262062\n",
      " 0.29586121 0.10699346 0.8561047  0.37204981 0.09644554 0.90537374\n",
      " 0.1331316  0.66886697 0.59317325 0.61900257 0.11230735 0.65825674\n",
      " 0.76367257 0.86692185 0.20324227 0.50307779 0.92473734 0.13314873\n",
      " 0.7664386  0.49673008 0.68704937 0.926503   0.09369768 0.94390342\n",
      " 0.62673329 0.72509109 0.60626269 0.36494216 0.06005629 0.77581866\n",
      " 0.86427122 0.85023278 0.70959937 0.52094984 0.1681126  0.87136135\n",
      " 0.9230208  0.64460026]\n"
     ]
    }
   ],
   "source": [
    "#50개의 난수 생성\n",
    "data1=np.random.rand(50)\n",
    "print(type(data1))\n",
    "print(data1)"
   ]
  },
  {
   "cell_type": "code",
   "execution_count": 18,
   "metadata": {},
   "outputs": [
    {
     "name": "stdout",
     "output_type": "stream",
     "text": [
      "<class 'pandas.core.series.Series'>\n",
      "0    1\n",
      "1    2\n",
      "2    3\n",
      "3    4\n",
      "4    5\n",
      "dtype: int64\n",
      "<class 'pandas.core.series.Series'>\n",
      "0     0.224768\n",
      "1     0.750020\n",
      "2     0.087948\n",
      "3     0.397381\n",
      "4     0.090131\n",
      "5     0.224670\n",
      "6     0.272662\n",
      "7     0.214570\n",
      "8     0.872142\n",
      "9     0.923256\n",
      "10    0.369916\n",
      "11    0.552621\n",
      "12    0.295861\n",
      "13    0.106993\n",
      "14    0.856105\n",
      "15    0.372050\n",
      "16    0.096446\n",
      "17    0.905374\n",
      "18    0.133132\n",
      "19    0.668867\n",
      "20    0.593173\n",
      "21    0.619003\n",
      "22    0.112307\n",
      "23    0.658257\n",
      "24    0.763673\n",
      "25    0.866922\n",
      "26    0.203242\n",
      "27    0.503078\n",
      "28    0.924737\n",
      "29    0.133149\n",
      "30    0.766439\n",
      "31    0.496730\n",
      "32    0.687049\n",
      "33    0.926503\n",
      "34    0.093698\n",
      "35    0.943903\n",
      "36    0.626733\n",
      "37    0.725091\n",
      "38    0.606263\n",
      "39    0.364942\n",
      "40    0.060056\n",
      "41    0.775819\n",
      "42    0.864271\n",
      "43    0.850233\n",
      "44    0.709599\n",
      "45    0.520950\n",
      "46    0.168113\n",
      "47    0.871361\n",
      "48    0.923021\n",
      "49    0.644600\n",
      "dtype: float64\n"
     ]
    }
   ],
   "source": [
    "series1 = pd.Series(list1)\n",
    "print(type(series1))\n",
    "print(series1)\n",
    "# Series는 값 한개와 인덱스로 이루어져 있음\n",
    "\n",
    "series2 = pd.Series(data1)\n",
    "print(type(series2))\n",
    "print(series2)"
   ]
  },
  {
   "cell_type": "code",
   "execution_count": 12,
   "metadata": {},
   "outputs": [
    {
     "name": "stdout",
     "output_type": "stream",
     "text": [
      "<class 'numpy.ndarray'>\n",
      "[[0.12738145 0.08681183 0.45022403 0.01519985]\n",
      " [0.56678821 0.39469879 0.26587111 0.11749481]\n",
      " [0.06747231 0.10175755 0.48900417 0.36095131]\n",
      " [0.68501501 0.68190708 0.64665291 0.00916465]\n",
      " [0.38054823 0.30541507 0.18349177 0.35650399]\n",
      " [0.67233554 0.84717355 0.68907202 0.41290198]\n",
      " [0.61787084 0.83346938 0.10321986 0.06172455]\n",
      " [0.2496368  0.63508993 0.91103935 0.15288141]\n",
      " [0.67650227 0.25926934 0.76194222 0.20438617]\n",
      " [0.3362578  0.22535427 0.73402225 0.47469799]]\n"
     ]
    }
   ],
   "source": [
    "# 10행 4열의 2차원 numpy list -> 밑의 dataFrame 실습\n",
    "data2=np.random.rand(10,4)\n",
    "print(type(data2))\n",
    "print(data2)"
   ]
  },
  {
   "cell_type": "code",
   "execution_count": 15,
   "metadata": {},
   "outputs": [
    {
     "data": {
      "text/html": [
       "<div>\n",
       "<style scoped>\n",
       "    .dataframe tbody tr th:only-of-type {\n",
       "        vertical-align: middle;\n",
       "    }\n",
       "\n",
       "    .dataframe tbody tr th {\n",
       "        vertical-align: top;\n",
       "    }\n",
       "\n",
       "    .dataframe thead th {\n",
       "        text-align: right;\n",
       "    }\n",
       "</style>\n",
       "<table border=\"1\" class=\"dataframe\">\n",
       "  <thead>\n",
       "    <tr style=\"text-align: right;\">\n",
       "      <th></th>\n",
       "      <th>A</th>\n",
       "      <th>B</th>\n",
       "      <th>C</th>\n",
       "      <th>D</th>\n",
       "    </tr>\n",
       "  </thead>\n",
       "  <tbody>\n",
       "    <tr>\n",
       "      <th>0</th>\n",
       "      <td>0.127381</td>\n",
       "      <td>0.086812</td>\n",
       "      <td>0.450224</td>\n",
       "      <td>0.015200</td>\n",
       "    </tr>\n",
       "    <tr>\n",
       "      <th>1</th>\n",
       "      <td>0.566788</td>\n",
       "      <td>0.394699</td>\n",
       "      <td>0.265871</td>\n",
       "      <td>0.117495</td>\n",
       "    </tr>\n",
       "    <tr>\n",
       "      <th>2</th>\n",
       "      <td>0.067472</td>\n",
       "      <td>0.101758</td>\n",
       "      <td>0.489004</td>\n",
       "      <td>0.360951</td>\n",
       "    </tr>\n",
       "    <tr>\n",
       "      <th>3</th>\n",
       "      <td>0.685015</td>\n",
       "      <td>0.681907</td>\n",
       "      <td>0.646653</td>\n",
       "      <td>0.009165</td>\n",
       "    </tr>\n",
       "    <tr>\n",
       "      <th>4</th>\n",
       "      <td>0.380548</td>\n",
       "      <td>0.305415</td>\n",
       "      <td>0.183492</td>\n",
       "      <td>0.356504</td>\n",
       "    </tr>\n",
       "    <tr>\n",
       "      <th>5</th>\n",
       "      <td>0.672336</td>\n",
       "      <td>0.847174</td>\n",
       "      <td>0.689072</td>\n",
       "      <td>0.412902</td>\n",
       "    </tr>\n",
       "    <tr>\n",
       "      <th>6</th>\n",
       "      <td>0.617871</td>\n",
       "      <td>0.833469</td>\n",
       "      <td>0.103220</td>\n",
       "      <td>0.061725</td>\n",
       "    </tr>\n",
       "    <tr>\n",
       "      <th>7</th>\n",
       "      <td>0.249637</td>\n",
       "      <td>0.635090</td>\n",
       "      <td>0.911039</td>\n",
       "      <td>0.152881</td>\n",
       "    </tr>\n",
       "    <tr>\n",
       "      <th>8</th>\n",
       "      <td>0.676502</td>\n",
       "      <td>0.259269</td>\n",
       "      <td>0.761942</td>\n",
       "      <td>0.204386</td>\n",
       "    </tr>\n",
       "    <tr>\n",
       "      <th>9</th>\n",
       "      <td>0.336258</td>\n",
       "      <td>0.225354</td>\n",
       "      <td>0.734022</td>\n",
       "      <td>0.474698</td>\n",
       "    </tr>\n",
       "  </tbody>\n",
       "</table>\n",
       "</div>"
      ],
      "text/plain": [
       "          A         B         C         D\n",
       "0  0.127381  0.086812  0.450224  0.015200\n",
       "1  0.566788  0.394699  0.265871  0.117495\n",
       "2  0.067472  0.101758  0.489004  0.360951\n",
       "3  0.685015  0.681907  0.646653  0.009165\n",
       "4  0.380548  0.305415  0.183492  0.356504\n",
       "5  0.672336  0.847174  0.689072  0.412902\n",
       "6  0.617871  0.833469  0.103220  0.061725\n",
       "7  0.249637  0.635090  0.911039  0.152881\n",
       "8  0.676502  0.259269  0.761942  0.204386\n",
       "9  0.336258  0.225354  0.734022  0.474698"
      ]
     },
     "execution_count": 15,
     "metadata": {},
     "output_type": "execute_result"
    }
   ],
   "source": [
    "dataFrame = pd.DataFrame(data2, columns=['A', 'B', 'C','D'])\n",
    "dataFrame"
   ]
  },
  {
   "cell_type": "code",
   "execution_count": 19,
   "metadata": {},
   "outputs": [
    {
     "data": {
      "text/plain": [
       "<Axes: >"
      ]
     },
     "execution_count": 19,
     "metadata": {},
     "output_type": "execute_result"
    },
    {
     "data": {
      "image/png": "[encoded data removed]",
      "text/plain": [
       "<Figure size 640x480 with 1 Axes>"
      ]
     },
     "metadata": {},
     "output_type": "display_data"
    },
    {
     "data": {
      "image/png": "[encoded data removed]",
      "text/plain": [
       "<Figure size 640x480 with 1 Axes>"
      ]
     },
     "metadata": {},
     "output_type": "display_data"
    }
   ],
   "source": [
    "# 위의 Series와 data2 로 차트 그리기\n",
    "series2.plot()\n",
    "dataFrame.plot()"
   ]
  },
  {
   "cell_type": "code",
   "execution_count": 23,
   "metadata": {},
   "outputs": [
    {
     "name": "stdout",
     "output_type": "stream",
     "text": [
      "a :  [1 2 3 4 5]\n",
      "a.shape :  (5,)\n",
      "type(a) :  <class 'numpy.ndarray'>\n"
     ]
    }
   ],
   "source": [
    "a = np.array(list1)\n",
    "print(\"a : \", a)\n",
    "# shape : 배열의 모양 (1차원, 2차원, ....)\n",
    "# a.shape :  (5,)\n",
    "# -> 1차원 배열\n",
    "print(\"a.shape : \", a.shape)\n",
    "print(\"type(a) : \", type(a))"
   ]
  },
  {
   "cell_type": "code",
   "execution_count": 27,
   "metadata": {},
   "outputs": [
    {
     "name": "stdout",
     "output_type": "stream",
     "text": [
      "b :  [[1 2 3]\n",
      " [4 5 6]]\n",
      "b.shape :  (2, 3)\n",
      "type(b) :  <class 'numpy.ndarray'>\n",
      "b[0,0] :  1\n",
      "[1 2 3]\n",
      "[4 5 6]\n",
      "1\n"
     ]
    }
   ],
   "source": [
    "# 2차원 배열\n",
    "list2 = [[1,2,3], [4,5,6]]\n",
    "b = np.array(list2)\n",
    "print(\"b : \", b)\n",
    "# b.shape :  (2, 3)\n",
    "# -> 2차원 배열\n",
    "print(\"b.shape : \", b.shape)\n",
    "print(\"type(b) : \", type(b))\n",
    "\n",
    "# numpy list의 데이터 꺼내기\n",
    "# b[0,0] : b의 0행 0열\n",
    "print(\"b[0,0] : \", b[0,0])\n",
    "# b[0] : b의 0행(1차원)\n",
    "print(b[0])\n",
    "# b[1] : b의 1행\n",
    "print(b[1])\n",
    "\n",
    "# list3의 데이터 꺼내기\n",
    "print(list2[0][0])"
   ]
  },
  {
   "cell_type": "code",
   "execution_count": 22,
   "metadata": {},
   "outputs": [
    {
     "name": "stdout",
     "output_type": "stream",
     "text": [
      "array : \n",
      " [1 2 3 4]\n",
      "arange : \n",
      " [0 2 4 6 8]\n",
      "ones : \n",
      " [1. 1. 1. 1. 1. 1. 1. 1. 1. 1.]\n",
      "zeros : \n",
      " [0. 0. 0. 0. 0. 0. 0. 0. 0. 0.]\n",
      "ones_like : \n",
      " [1 1 1 1]\n",
      "zeros_like : \n",
      " [0 0 0 0 0]\n",
      "eye : \n",
      " [[1. 0. 0.]\n",
      " [0. 1. 0.]\n",
      " [0. 0. 1.]]\n",
      "full : \n",
      " [[5 5 5]\n",
      " [5 5 5]]\n",
      "linspace : \n",
      " (array([ 0., 20., 40., 60., 80.]), 20.0)\n",
      "empty : \n",
      " [[0.   0.15]\n",
      " [0.25 0.5 ]\n",
      " [0.75 1.  ]]\n"
     ]
    }
   ],
   "source": [
    "array = np.array([1,2,3,4]); print(\"array : \\n\", array)\n",
    "arange = np.arange(0,10,2); print(\"arange : \\n\", arange)\n",
    "ones = np.ones(10); print(\"ones : \\n\",ones)\n",
    "zeros = np.zeros(10); print(\"zeros : \\n\",zeros)\n",
    "ones_like = np.ones_like(array); print(\"ones_like : \\n\",ones_like)\n",
    "zeros_like = np.zeros_like(arange); print(\"zeros_like : \\n\",zeros_like)\n",
    "eye = np.eye(3); print(\"eye : \\n\",eye)\n",
    "full = np.full((2,3),5); print(\"full : \\n\",full)\n",
    "linspace = np.linspace(0,100,5, endpoint=False, retstep=True); print(\"linspace : \\n\",linspace)\n",
    "# endpoint = True : endpoint가 포함 된 배열\n",
    "# endpoint = False : endpoint가 포함되지 않은 배열\n",
    "# retstep = True / False : 간격을 보여줌 / 보여주지 않음\n",
    "empty = np.empty((3,2)); print(\"empty : \\n\",empty)"
   ]
  },
  {
   "cell_type": "code",
   "execution_count": 20,
   "metadata": {},
   "outputs": [
    {
     "name": "stdout",
     "output_type": "stream",
     "text": [
      "[1. 2. 3. 4.] float64\n",
      "[1 2 3 4] int64\n"
     ]
    }
   ],
   "source": [
    "# numpy의 자료형 변환 : astype\n",
    "array1 = np.array([1,2,3,4], dtype = np.float64)\n",
    "print(array1, array1.dtype)\n",
    "array2 = array1.astype(np.int64)\n",
    "print(array2, array2.dtype)"
   ]
  },
  {
   "cell_type": "code",
   "execution_count": 28,
   "metadata": {},
   "outputs": [
    {
     "name": "stdout",
     "output_type": "stream",
     "text": [
      "array3 : \n",
      " [[1 2 3]\n",
      " [4 5 6]]\n",
      "type :  <class 'numpy.ndarray'>\n",
      "ndim :  2\n",
      "dtype :  int32\n",
      "itemsize :  4\n",
      "size :  6\n",
      "array3.T : \n",
      " [[1 4]\n",
      " [2 5]\n",
      " [3 6]]\n",
      "shape :  (2, 3)\n"
     ]
    }
   ],
   "source": [
    "# 배열의 속성\n",
    "\n",
    "array3 = np.array([[1,2,3], [4,5,6]])\n",
    "print('array3 : \\n', array3)\n",
    "print('type : ', type(array3))\n",
    "# ndim : 차원\n",
    "print('ndim : ', array3.ndim)\n",
    "print('dtype : ', array3.dtype)\n",
    "print('itemsize : ', array3.itemsize)\n",
    "print('size : ', array3.size)\n",
    "\n",
    "# array3.T : 행과 열을 바꿈\n",
    "print('array3.T : \\n', array3.T)\n",
    "print('shape : ', array3.shape)"
   ]
  },
  {
   "cell_type": "code",
   "execution_count": 41,
   "metadata": {},
   "outputs": [
    {
     "name": "stdout",
     "output_type": "stream",
     "text": [
      "arange(0,8,1) : \n",
      " [0 1 2 3 4 5 6 7]\n",
      "arange2.reshape(2,4) : \n",
      " [[0 1 2 3]\n",
      " [4 5 6 7]]\n",
      "arange2.resize(4,2) : \n",
      " [[0 1]\n",
      " [2 3]\n",
      " [4 5]\n",
      " [6 7]]\n",
      "arange2.flatten() : \n",
      " [0 1 2 3 4 5 6 7]\n",
      "arange2.transpose() : \n",
      " [[0 2 4 6]\n",
      " [1 3 5 7]]\n"
     ]
    }
   ],
   "source": [
    "# 배열 모양 변경\n",
    "arange2 = np.arange(0,8,1); print('arange(0,8,1) : \\n', arange2)\n",
    "\n",
    "# reshape : arange2의 모양을 바꿔서 다른 변수에 대입해줘야 함\n",
    "arange3 = arange2.reshape(2,4); print('arange2.reshape(2,4) : \\n',arange3)\n",
    "\n",
    "# resize : arange2 자체의 모양을 바꿈\n",
    "arange2.resize(4,2); print('arange2.resize(4,2) : \\n',arange2)\n",
    "\n",
    "# flatten : resize된 arange2를 다시 1차원으로 변경하여 arange4에 대입\n",
    "arange4 = arange2.flatten(); print('arange2.flatten() : \\n', arange4)\n",
    "\n",
    "# transpose / T : 행과 열을 바꿈\n",
    "arange5 = arange2.transpose(); print('arange2.transpose() : \\n', arange5)"
   ]
  },
  {
   "cell_type": "code",
   "execution_count": 48,
   "metadata": {},
   "outputs": [
    {
     "name": "stdout",
     "output_type": "stream",
     "text": [
      "list3 : \n",
      " [[1, 2, 3, 4], [5, 6, 7, 8], [9, 10, 11, 12]]\n",
      "np.array(list3) : \n",
      " [[ 1  2  3  4]\n",
      " [ 5  6  7  8]\n",
      " [ 9 10 11 12]]\n",
      "list3[0][0] : \n",
      " 1\n",
      "list3[0] : \n",
      " [1, 2, 3, 4]\n",
      "list3[:] : \n",
      " [[1, 2, 3, 4], [5, 6, 7, 8], [9, 10, 11, 12]]\n"
     ]
    }
   ],
   "source": [
    "# 리스트 슬라이싱\n",
    "list3 = [[1,2,3,4], [5,6,7,8], [9,10,11,12]]\n",
    "print('list3 : \\n',list3)\n",
    "array4 = np.array(list3)\n",
    "print('np.array(list3) : \\n',array4)\n",
    "\n",
    "print('list3[0][0] : \\n', list3[0][0])\n",
    "print('list3[0] : \\n', list3[0])\n",
    "print('list3[:] : \\n', list3[:])"
   ]
  },
  {
   "cell_type": "code",
   "execution_count": 50,
   "metadata": {},
   "outputs": [
    {
     "name": "stdout",
     "output_type": "stream",
     "text": [
      "[1 4 7]\n"
     ]
    }
   ],
   "source": [
    "# numpy 배열 슬라이싱\n",
    "arange_sample = np.arange(1, 10).reshape(3,3)\n",
    "print(arange_sample[:,0])"
   ]
  },
  {
   "cell_type": "code",
   "execution_count": 63,
   "metadata": {},
   "outputs": [
    {
     "name": "stdout",
     "output_type": "stream",
     "text": [
      "mask : \n",
      " [False  True  True False]\n",
      "data : \n",
      " [[ 0.34765192 -0.02108425]\n",
      " [-0.44656202 -1.01831856]\n",
      " [-1.00518334  0.20840068]\n",
      " [ 2.32953273  1.11879537]]\n",
      "마스킹 된 데이터 출력 : \n",
      " [[-0.44656202 -1.01831856]\n",
      " [-1.00518334  0.20840068]]\n",
      "마스킹 역전된 데이터 출력 : \n",
      " [[ 0.34765192 -0.02108425]\n",
      " [ 2.32953273  1.11879537]]\n"
     ]
    }
   ],
   "source": [
    "# 마스킹\n",
    "mask = np.array([0,1,1,0], dtype=bool)\n",
    "print('mask : \\n', mask)\n",
    "\n",
    "data = np.random.randn(4,2)\n",
    "print('data : \\n',data)\n",
    "\n",
    "print(\"마스킹 된 데이터 출력 : \\n\", data[mask])\n",
    "print(\"마스킹 역전된 데이터 출력 : \\n\", data[~mask])"
   ]
  },
  {
   "cell_type": "code",
   "execution_count": 65,
   "metadata": {},
   "outputs": [
    {
     "name": "stdout",
     "output_type": "stream",
     "text": [
      "양의 데이터 출력 : \n",
      " [0.34765192 0.20840068 2.32953273 1.11879537]\n",
      "두 번째 행의 양수 데이터 출력 : \n",
      " [0.20840068]\n"
     ]
    }
   ],
   "source": [
    "# 조건식으로 마스킹 하기\n",
    "# 0보다 큰\n",
    "positive = data[data>0]\n",
    "print('양의 데이터 출력 : \\n', positive)\n",
    "\n",
    "# 다중 조건\n",
    "over1 = data[2][data[2]>0]\n",
    "print('두 번째 행의 양수 데이터 출력 : \\n', over1)"
   ]
  },
  {
   "cell_type": "code",
   "execution_count": 73,
   "metadata": {},
   "outputs": [
    {
     "name": "stdout",
     "output_type": "stream",
     "text": [
      "a : \n",
      " [[ 1  2  3  4]\n",
      " [ 5  6  7  8]\n",
      " [ 9 10 11 12]\n",
      " [13 14 15 16]]\n",
      "np.sum(a) : \n",
      " 136\n",
      "a.mean() : \n",
      " 8.5\n",
      "a.max() : \n",
      " 16\n",
      "a.min() : \n",
      " 1\n",
      "np.sum(a, axis = 0) : \n",
      " [28 32 36 40]\n",
      "np.sum(a, axis = 1) : \n",
      " [10 26 42 58]\n",
      "a.sum(axis = 1) : \n",
      " [10 26 42 58]\n"
     ]
    }
   ],
   "source": [
    "a = np.arange(1,17).reshape(4,4)\n",
    "print('a : \\n', a)\n",
    "print('np.sum(a) : \\n', np.sum(a))\n",
    "print('a.mean() : \\n', a.mean())\n",
    "print('a.max() : \\n', a.max())\n",
    "print('a.min() : \\n', a.min())\n",
    "\n",
    "# axis=0 : 열기준 계산\n",
    "print('np.sum(a, axis = 0) : \\n', np.sum(a, axis=0)) \n",
    "# axis=1 : 행기준 계산\n",
    "print('np.sum(a, axis = 1) : \\n', np.sum(a, axis=1)) \n",
    "print('a.sum(axis = 1) : \\n', a.sum(axis = 1))"
   ]
  },
  {
   "cell_type": "code",
   "execution_count": 81,
   "metadata": {},
   "outputs": [
    {
     "name": "stdout",
     "output_type": "stream",
     "text": [
      "np.sort(a) : \n",
      " [[2 3 4]\n",
      " [2 6 7]\n",
      " [1 8 9]]\n",
      "np.sort(a, axis=1) : \n",
      " [[2 3 4]\n",
      " [2 6 7]\n",
      " [1 8 9]]\n",
      "np.sort(a, axis=0) : \n",
      " [[2 2 1]\n",
      " [3 7 4]\n",
      " [8 9 6]]\n",
      "np.sort(a, axis=0)[::-1] : \n",
      " [[8 9 6]\n",
      " [3 7 4]\n",
      " [2 2 1]]\n",
      "np.sort(a, axis=1)[:,::-1] : \n",
      " [[4 3 2]\n",
      " [7 6 2]\n",
      " [9 8 1]]\n"
     ]
    }
   ],
   "source": [
    "# 배열의 정렬\n",
    "a = np.array([[3,2,4],[2,7,6],[8,9,1]])\n",
    "print('np.sort(a) : \\n',np.sort(a))\n",
    "print('np.sort(a, axis=1) : \\n', np.sort(a, axis=1)) # 행기준 정렬\n",
    "print('np.sort(a, axis=0) : \\n', np.sort(a, axis=0)) # 열기준 정렬\n",
    "print('np.sort(a, axis=0)[::-1] : \\n', np.sort(a, axis=0)[::-1]) # 열기준 역순정렬\n",
    "print('np.sort(a, axis=1)[:,::-1] : \\n', np.sort(a, axis=1)[:,::-1]) # 행기준 역순정렬"
   ]
  }
 ],
 "metadata": {
  "kernelspec": {
   "display_name": "base",
   "language": "python",
   "name": "python3"
  },
  "language_info": {
   "codemirror_mode": {
    "name": "ipython",
    "version": 3
   },
   "file_extension": ".py",
   "mimetype": "text/x-python",
   "name": "python",
   "nbconvert_exporter": "python",
   "pygments_lexer": "ipython3",
   "version": "3.12.4"
  }
 },
 "nbformat": 4,
 "nbformat_minor": 2
}
