{
 "cells": [
  {
   "cell_type": "code",
   "execution_count": 1,
   "metadata": {},
   "outputs": [],
   "source": [
    "import numpy as np\n",
    "import pandas as pd\n",
    "import matplotlib"
   ]
  },
  {
   "cell_type": "code",
   "execution_count": 7,
   "metadata": {},
   "outputs": [
    {
     "name": "stdout",
     "output_type": "stream",
     "text": [
      "s1 : \n",
      " 0    4\n",
      "1    3\n",
      "2    6\n",
      "3    8\n",
      "4    7\n",
      "dtype: int64\n"
     ]
    }
   ],
   "source": [
    "# Series\n",
    "\n",
    "list1 = [4,3,6,8,7]\n",
    "s1 = pd.Series(list1)\n",
    "# s1 = pd.Series(list1, index =['a','b','c','d','e'])\n",
    "print('s1 : \\n', s1)\n",
    "type(s1)\n",
    "s1.dtype\n",
    "s1.values\n",
    "s1.index=['a','b','c','d','e']\n",
    "# s1.index"
   ]
  },
  {
   "cell_type": "code",
   "execution_count": 8,
   "metadata": {},
   "outputs": [
    {
     "data": {
      "text/plain": [
       "kim     80\n",
       "lee     85\n",
       "choi    85\n",
       "dtype: int64"
      ]
     },
     "execution_count": 8,
     "metadata": {},
     "output_type": "execute_result"
    }
   ],
   "source": [
    "sdata={'kim' : 80, 'lee':85, 'choi':85}\n",
    "s2 = pd.Series(sdata)\n",
    "s2"
   ]
  },
  {
   "cell_type": "code",
   "execution_count": 11,
   "metadata": {},
   "outputs": [
    {
     "name": "stdout",
     "output_type": "stream",
     "text": [
      "  names  years  points\n",
      "0    민준   2013     1.5\n",
      "1    현우   2014     1.7\n",
      "2    서연   2015     3.6\n",
      "3    동현   2016     2.4\n",
      "4    지현   2015     2.9\n"
     ]
    },
    {
     "data": {
      "text/html": [
       "<div>\n",
       "<style scoped>\n",
       "    .dataframe tbody tr th:only-of-type {\n",
       "        vertical-align: middle;\n",
       "    }\n",
       "\n",
       "    .dataframe tbody tr th {\n",
       "        vertical-align: top;\n",
       "    }\n",
       "\n",
       "    .dataframe thead th {\n",
       "        text-align: right;\n",
       "    }\n",
       "</style>\n",
       "<table border=\"1\" class=\"dataframe\">\n",
       "  <thead>\n",
       "    <tr style=\"text-align: right;\">\n",
       "      <th></th>\n",
       "      <th>names</th>\n",
       "      <th>years</th>\n",
       "      <th>points</th>\n",
       "    </tr>\n",
       "  </thead>\n",
       "  <tbody>\n",
       "    <tr>\n",
       "      <th>0</th>\n",
       "      <td>민준</td>\n",
       "      <td>2013</td>\n",
       "      <td>1.5</td>\n",
       "    </tr>\n",
       "    <tr>\n",
       "      <th>1</th>\n",
       "      <td>현우</td>\n",
       "      <td>2014</td>\n",
       "      <td>1.7</td>\n",
       "    </tr>\n",
       "    <tr>\n",
       "      <th>2</th>\n",
       "      <td>서연</td>\n",
       "      <td>2015</td>\n",
       "      <td>3.6</td>\n",
       "    </tr>\n",
       "    <tr>\n",
       "      <th>3</th>\n",
       "      <td>동현</td>\n",
       "      <td>2016</td>\n",
       "      <td>2.4</td>\n",
       "    </tr>\n",
       "    <tr>\n",
       "      <th>4</th>\n",
       "      <td>지현</td>\n",
       "      <td>2015</td>\n",
       "      <td>2.9</td>\n",
       "    </tr>\n",
       "  </tbody>\n",
       "</table>\n",
       "</div>"
      ],
      "text/plain": [
       "  names  years  points\n",
       "0    민준   2013     1.5\n",
       "1    현우   2014     1.7\n",
       "2    서연   2015     3.6\n",
       "3    동현   2016     2.4\n",
       "4    지현   2015     2.9"
      ]
     },
     "execution_count": 11,
     "metadata": {},
     "output_type": "execute_result"
    }
   ],
   "source": [
    "# DataFrame\n",
    "\n",
    "# DataFrame : 생성\n",
    "# 형식: pd.DataFrame(data, columns=[], index=[])\n",
    "\n",
    "# dictionary 데이터 활용\n",
    "data = {'names':['민준', '현우', '서연', '동현', '지현'],\n",
    "        'years':[2013, 2014, 2015, 2016, 2015],\n",
    "        'points':[1.5, 1.7, 3.6, 2.4, 2.9]\n",
    "        }\n",
    "df = pd.DataFrame(data)\n",
    "\n",
    "# print(df)와 df 출력방식이 서로 다름\n",
    "print(df)\n",
    "df"
   ]
  },
  {
   "cell_type": "code",
   "execution_count": 13,
   "metadata": {},
   "outputs": [
    {
     "data": {
      "text/plain": [
       "[['민준', '현우', '서연', '동현', '지현'],\n",
       " [2013, 2014, 2015, 2016, 2015],\n",
       " [1.5, 1.7, 3.6, 2.4, 2.9]]"
      ]
     },
     "execution_count": 13,
     "metadata": {},
     "output_type": "execute_result"
    }
   ],
   "source": [
    "names=['민준', '현우', '서연', '동현', '지현']\n",
    "years=[2013, 2014, 2015, 2016, 2015]\n",
    "points=[1.5, 1.7, 3.6, 2.4, 2.9]\n",
    "data1 = [names, years, points]\n",
    "data1\n",
    "# -> 데이터가 3행 5열로 나옴 -> T(transpose)를 사용하여 행/열 반전시킴"
   ]
  },
  {
   "cell_type": "code",
   "execution_count": 17,
   "metadata": {},
   "outputs": [
    {
     "data": {
      "text/html": [
       "<div>\n",
       "<style scoped>\n",
       "    .dataframe tbody tr th:only-of-type {\n",
       "        vertical-align: middle;\n",
       "    }\n",
       "\n",
       "    .dataframe tbody tr th {\n",
       "        vertical-align: top;\n",
       "    }\n",
       "\n",
       "    .dataframe thead th {\n",
       "        text-align: right;\n",
       "    }\n",
       "</style>\n",
       "<table border=\"1\" class=\"dataframe\">\n",
       "  <thead>\n",
       "    <tr style=\"text-align: right;\">\n",
       "      <th></th>\n",
       "      <th>name</th>\n",
       "      <th>year</th>\n",
       "      <th>point</th>\n",
       "    </tr>\n",
       "  </thead>\n",
       "  <tbody>\n",
       "    <tr>\n",
       "      <th>1</th>\n",
       "      <td>민준</td>\n",
       "      <td>2013</td>\n",
       "      <td>1.5</td>\n",
       "    </tr>\n",
       "    <tr>\n",
       "      <th>2</th>\n",
       "      <td>현우</td>\n",
       "      <td>2014</td>\n",
       "      <td>1.7</td>\n",
       "    </tr>\n",
       "    <tr>\n",
       "      <th>3</th>\n",
       "      <td>서연</td>\n",
       "      <td>2015</td>\n",
       "      <td>3.6</td>\n",
       "    </tr>\n",
       "    <tr>\n",
       "      <th>4</th>\n",
       "      <td>동현</td>\n",
       "      <td>2016</td>\n",
       "      <td>2.4</td>\n",
       "    </tr>\n",
       "    <tr>\n",
       "      <th>5</th>\n",
       "      <td>지현</td>\n",
       "      <td>2015</td>\n",
       "      <td>2.9</td>\n",
       "    </tr>\n",
       "  </tbody>\n",
       "</table>\n",
       "</div>"
      ],
      "text/plain": [
       "  name  year point\n",
       "1   민준  2013   1.5\n",
       "2   현우  2014   1.7\n",
       "3   서연  2015   3.6\n",
       "4   동현  2016   2.4\n",
       "5   지현  2015   2.9"
      ]
     },
     "execution_count": 17,
     "metadata": {},
     "output_type": "execute_result"
    }
   ],
   "source": [
    "# 2차원 배열 데이터 활용\n",
    "data2 = [['민준', '현우', '서연', '동현', '지현'],\n",
    "         [2013, 2014, 2015, 2016, 2015],\n",
    "         [1.5, 1.7, 3.6, 2.4, 2.9]]\n",
    "arr = np.array(data2).T\n",
    "df1 = pd.DataFrame(arr)\n",
    "df1.columns=['name', 'year', 'point']\n",
    "df1.index=[1,2,3,4,5]\n",
    "# df1 = pd.DataFrame(arr, columns=['name', 'year', 'point'], index=[1,2,3,4,5])\n",
    "df1"
   ]
  },
  {
   "cell_type": "code",
   "execution_count": 24,
   "metadata": {},
   "outputs": [
    {
     "name": "stdout",
     "output_type": "stream",
     "text": [
      "  name  year point\n",
      "1   민준  2013   1.5\n",
      "2   현우  2014   1.7\n",
      "3   서연  2015   3.6\n",
      "4   동현  2016   2.4\n",
      "5   지현  2015   2.9\n",
      "Index([1, 2, 3, 4, 5], dtype='int64')\n",
      "RangeIndex(start=0, stop=5, step=1)\n",
      "[['민준' '2013' '1.5']\n",
      " ['현우' '2014' '1.7']\n",
      " ['서연' '2015' '3.6']\n",
      " ['동현' '2016' '2.4']\n",
      " ['지현' '2015' '2.9']]\n",
      "Index(['name', 'year', 'point'], dtype='object')\n"
     ]
    }
   ],
   "source": [
    "print(df1)\n",
    "print(df1.index)\n",
    "print(df.index)\n",
    "print(df1.values)\n",
    "print(df1.columns)"
   ]
  },
  {
   "cell_type": "code",
   "execution_count": 27,
   "metadata": {},
   "outputs": [
    {
     "name": "stdout",
     "output_type": "stream",
     "text": [
      "<class 'pandas.core.frame.DataFrame'>\n",
      "Index: 5 entries, 1 to 5\n",
      "Data columns (total 3 columns):\n",
      " #   Column  Non-Null Count  Dtype \n",
      "---  ------  --------------  ----- \n",
      " 0   name    5 non-null      object\n",
      " 1   year    5 non-null      object\n",
      " 2   point   5 non-null      object\n",
      "dtypes: object(3)\n",
      "memory usage: 160.0+ bytes\n"
     ]
    }
   ],
   "source": [
    "df1.info()\n",
    "# array로 만든 후 dataframe을 만들었기 때문에 dtype이 전부  object로 나옴\n",
    "# array는 한가지 데이터 타입만 들어갈 수 있다"
   ]
  },
  {
   "cell_type": "code",
   "execution_count": 28,
   "metadata": {},
   "outputs": [
    {
     "name": "stdout",
     "output_type": "stream",
     "text": [
      "<class 'pandas.core.frame.DataFrame'>\n",
      "RangeIndex: 5 entries, 0 to 4\n",
      "Data columns (total 3 columns):\n",
      " #   Column  Non-Null Count  Dtype  \n",
      "---  ------  --------------  -----  \n",
      " 0   names   5 non-null      object \n",
      " 1   years   5 non-null      int64  \n",
      " 2   points  5 non-null      float64\n",
      "dtypes: float64(1), int64(1), object(1)\n",
      "memory usage: 252.0+ bytes\n"
     ]
    }
   ],
   "source": [
    "df.info()"
   ]
  }
 ],
 "metadata": {
  "kernelspec": {
   "display_name": "base",
   "language": "python",
   "name": "python3"
  },
  "language_info": {
   "codemirror_mode": {
    "name": "ipython",
    "version": 3
   },
   "file_extension": ".py",
   "mimetype": "text/x-python",
   "name": "python",
   "nbconvert_exporter": "python",
   "pygments_lexer": "ipython3",
   "version": "3.12.4"
  }
 },
 "nbformat": 4,
 "nbformat_minor": 2
}
