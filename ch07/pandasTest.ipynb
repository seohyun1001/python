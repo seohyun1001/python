{
 "cells": [
  {
   "cell_type": "code",
   "execution_count": 1,
   "metadata": {},
   "outputs": [],
   "source": [
    "import numpy as np\n",
    "import pandas as pd\n",
    "import matplotlib"
   ]
  },
  {
   "cell_type": "code",
   "execution_count": 7,
   "metadata": {},
   "outputs": [
    {
     "name": "stdout",
     "output_type": "stream",
     "text": [
      "s1 : \n",
      " 0    4\n",
      "1    3\n",
      "2    6\n",
      "3    8\n",
      "4    7\n",
      "dtype: int64\n"
     ]
    }
   ],
   "source": [
    "# Series\n",
    "\n",
    "list1 = [4,3,6,8,7]\n",
    "s1 = pd.Series(list1)\n",
    "# s1 = pd.Series(list1, index =['a','b','c','d','e'])\n",
    "print('s1 : \\n', s1)\n",
    "type(s1)\n",
    "s1.dtype\n",
    "s1.values\n",
    "s1.index=['a','b','c','d','e']\n",
    "# s1.index"
   ]
  },
  {
   "cell_type": "code",
   "execution_count": 8,
   "metadata": {},
   "outputs": [
    {
     "data": {
      "text/plain": [
       "kim     80\n",
       "lee     85\n",
       "choi    85\n",
       "dtype: int64"
      ]
     },
     "execution_count": 8,
     "metadata": {},
     "output_type": "execute_result"
    }
   ],
   "source": [
    "sdata={'kim' : 80, 'lee':85, 'choi':85}\n",
    "s2 = pd.Series(sdata)\n",
    "s2"
   ]
  },
  {
   "cell_type": "code",
   "execution_count": 11,
   "metadata": {},
   "outputs": [
    {
     "name": "stdout",
     "output_type": "stream",
     "text": [
      "  names  years  points\n",
      "0    민준   2013     1.5\n",
      "1    현우   2014     1.7\n",
      "2    서연   2015     3.6\n",
      "3    동현   2016     2.4\n",
      "4    지현   2015     2.9\n"
     ]
    },
    {
     "data": {
      "text/html": [
       "<div>\n",
       "<style scoped>\n",
       "    .dataframe tbody tr th:only-of-type {\n",
       "        vertical-align: middle;\n",
       "    }\n",
       "\n",
       "    .dataframe tbody tr th {\n",
       "        vertical-align: top;\n",
       "    }\n",
       "\n",
       "    .dataframe thead th {\n",
       "        text-align: right;\n",
       "    }\n",
       "</style>\n",
       "<table border=\"1\" class=\"dataframe\">\n",
       "  <thead>\n",
       "    <tr style=\"text-align: right;\">\n",
       "      <th></th>\n",
       "      <th>names</th>\n",
       "      <th>years</th>\n",
       "      <th>points</th>\n",
       "    </tr>\n",
       "  </thead>\n",
       "  <tbody>\n",
       "    <tr>\n",
       "      <th>0</th>\n",
       "      <td>민준</td>\n",
       "      <td>2013</td>\n",
       "      <td>1.5</td>\n",
       "    </tr>\n",
       "    <tr>\n",
       "      <th>1</th>\n",
       "      <td>현우</td>\n",
       "      <td>2014</td>\n",
       "      <td>1.7</td>\n",
       "    </tr>\n",
       "    <tr>\n",
       "      <th>2</th>\n",
       "      <td>서연</td>\n",
       "      <td>2015</td>\n",
       "      <td>3.6</td>\n",
       "    </tr>\n",
       "    <tr>\n",
       "      <th>3</th>\n",
       "      <td>동현</td>\n",
       "      <td>2016</td>\n",
       "      <td>2.4</td>\n",
       "    </tr>\n",
       "    <tr>\n",
       "      <th>4</th>\n",
       "      <td>지현</td>\n",
       "      <td>2015</td>\n",
       "      <td>2.9</td>\n",
       "    </tr>\n",
       "  </tbody>\n",
       "</table>\n",
       "</div>"
      ],
      "text/plain": [
       "  names  years  points\n",
       "0    민준   2013     1.5\n",
       "1    현우   2014     1.7\n",
       "2    서연   2015     3.6\n",
       "3    동현   2016     2.4\n",
       "4    지현   2015     2.9"
      ]
     },
     "execution_count": 11,
     "metadata": {},
     "output_type": "execute_result"
    }
   ],
   "source": [
    "# DataFrame\n",
    "\n",
    "# DataFrame : 생성\n",
    "# 형식: pd.DataFrame(data, columns=[], index=[])\n",
    "\n",
    "# dictionary 데이터 활용\n",
    "data = {'names':['민준', '현우', '서연', '동현', '지현'],\n",
    "        'years':[2013, 2014, 2015, 2016, 2015],\n",
    "        'points':[1.5, 1.7, 3.6, 2.4, 2.9]\n",
    "        }\n",
    "df = pd.DataFrame(data)\n",
    "\n",
    "# print(df)와 df 출력방식이 서로 다름\n",
    "print(df)\n",
    "df"
   ]
  },
  {
   "cell_type": "code",
   "execution_count": 13,
   "metadata": {},
   "outputs": [
    {
     "data": {
      "text/plain": [
       "[['민준', '현우', '서연', '동현', '지현'],\n",
       " [2013, 2014, 2015, 2016, 2015],\n",
       " [1.5, 1.7, 3.6, 2.4, 2.9]]"
      ]
     },
     "execution_count": 13,
     "metadata": {},
     "output_type": "execute_result"
    }
   ],
   "source": [
    "names=['민준', '현우', '서연', '동현', '지현']\n",
    "years=[2013, 2014, 2015, 2016, 2015]\n",
    "points=[1.5, 1.7, 3.6, 2.4, 2.9]\n",
    "data1 = [names, years, points]\n",
    "data1\n",
    "# -> 데이터가 3행 5열로 나옴 -> T(transpose)를 사용하여 행/열 반전시킴"
   ]
  },
  {
   "cell_type": "code",
   "execution_count": 17,
   "metadata": {},
   "outputs": [
    {
     "data": {
      "text/html": [
       "<div>\n",
       "<style scoped>\n",
       "    .dataframe tbody tr th:only-of-type {\n",
       "        vertical-align: middle;\n",
       "    }\n",
       "\n",
       "    .dataframe tbody tr th {\n",
       "        vertical-align: top;\n",
       "    }\n",
       "\n",
       "    .dataframe thead th {\n",
       "        text-align: right;\n",
       "    }\n",
       "</style>\n",
       "<table border=\"1\" class=\"dataframe\">\n",
       "  <thead>\n",
       "    <tr style=\"text-align: right;\">\n",
       "      <th></th>\n",
       "      <th>name</th>\n",
       "      <th>year</th>\n",
       "      <th>point</th>\n",
       "    </tr>\n",
       "  </thead>\n",
       "  <tbody>\n",
       "    <tr>\n",
       "      <th>1</th>\n",
       "      <td>민준</td>\n",
       "      <td>2013</td>\n",
       "      <td>1.5</td>\n",
       "    </tr>\n",
       "    <tr>\n",
       "      <th>2</th>\n",
       "      <td>현우</td>\n",
       "      <td>2014</td>\n",
       "      <td>1.7</td>\n",
       "    </tr>\n",
       "    <tr>\n",
       "      <th>3</th>\n",
       "      <td>서연</td>\n",
       "      <td>2015</td>\n",
       "      <td>3.6</td>\n",
       "    </tr>\n",
       "    <tr>\n",
       "      <th>4</th>\n",
       "      <td>동현</td>\n",
       "      <td>2016</td>\n",
       "      <td>2.4</td>\n",
       "    </tr>\n",
       "    <tr>\n",
       "      <th>5</th>\n",
       "      <td>지현</td>\n",
       "      <td>2015</td>\n",
       "      <td>2.9</td>\n",
       "    </tr>\n",
       "  </tbody>\n",
       "</table>\n",
       "</div>"
      ],
      "text/plain": [
       "  name  year point\n",
       "1   민준  2013   1.5\n",
       "2   현우  2014   1.7\n",
       "3   서연  2015   3.6\n",
       "4   동현  2016   2.4\n",
       "5   지현  2015   2.9"
      ]
     },
     "execution_count": 17,
     "metadata": {},
     "output_type": "execute_result"
    }
   ],
   "source": [
    "# 2차원 배열 데이터 활용\n",
    "data2 = [['민준', '현우', '서연', '동현', '지현'],\n",
    "         [2013, 2014, 2015, 2016, 2015],\n",
    "         [1.5, 1.7, 3.6, 2.4, 2.9]]\n",
    "arr = np.array(data2).T\n",
    "df1 = pd.DataFrame(arr)\n",
    "df1.columns=['name', 'year', 'point']\n",
    "df1.index=[1,2,3,4,5]\n",
    "# df1 = pd.DataFrame(arr, columns=['name', 'year', 'point'], index=[1,2,3,4,5])\n",
    "df1"
   ]
  },
  {
   "cell_type": "code",
   "execution_count": 24,
   "metadata": {},
   "outputs": [
    {
     "name": "stdout",
     "output_type": "stream",
     "text": [
      "  name  year point\n",
      "1   민준  2013   1.5\n",
      "2   현우  2014   1.7\n",
      "3   서연  2015   3.6\n",
      "4   동현  2016   2.4\n",
      "5   지현  2015   2.9\n",
      "Index([1, 2, 3, 4, 5], dtype='int64')\n",
      "RangeIndex(start=0, stop=5, step=1)\n",
      "[['민준' '2013' '1.5']\n",
      " ['현우' '2014' '1.7']\n",
      " ['서연' '2015' '3.6']\n",
      " ['동현' '2016' '2.4']\n",
      " ['지현' '2015' '2.9']]\n",
      "Index(['name', 'year', 'point'], dtype='object')\n"
     ]
    }
   ],
   "source": [
    "print(df1)\n",
    "print(df1.index)\n",
    "print(df.index)\n",
    "print(df1.values)\n",
    "print(df1.columns)"
   ]
  },
  {
   "cell_type": "code",
   "execution_count": 27,
   "metadata": {},
   "outputs": [
    {
     "name": "stdout",
     "output_type": "stream",
     "text": [
      "<class 'pandas.core.frame.DataFrame'>\n",
      "Index: 5 entries, 1 to 5\n",
      "Data columns (total 3 columns):\n",
      " #   Column  Non-Null Count  Dtype \n",
      "---  ------  --------------  ----- \n",
      " 0   name    5 non-null      object\n",
      " 1   year    5 non-null      object\n",
      " 2   point   5 non-null      object\n",
      "dtypes: object(3)\n",
      "memory usage: 160.0+ bytes\n"
     ]
    }
   ],
   "source": [
    "df1.info()\n",
    "# array로 만든 후 dataframe을 만들었기 때문에 dtype이 전부  object로 나옴\n",
    "# array는 한가지 데이터 타입만 들어갈 수 있다"
   ]
  },
  {
   "cell_type": "code",
   "execution_count": 28,
   "metadata": {},
   "outputs": [
    {
     "name": "stdout",
     "output_type": "stream",
     "text": [
      "<class 'pandas.core.frame.DataFrame'>\n",
      "RangeIndex: 5 entries, 0 to 4\n",
      "Data columns (total 3 columns):\n",
      " #   Column  Non-Null Count  Dtype  \n",
      "---  ------  --------------  -----  \n",
      " 0   names   5 non-null      object \n",
      " 1   years   5 non-null      int64  \n",
      " 2   points  5 non-null      float64\n",
      "dtypes: float64(1), int64(1), object(1)\n",
      "memory usage: 252.0+ bytes\n"
     ]
    }
   ],
   "source": [
    "df.info()"
   ]
  },
  {
   "cell_type": "code",
   "execution_count": 45,
   "metadata": {},
   "outputs": [],
   "source": [
    "# chocolate_rating.csv 가져오기\n",
    "choco_df = pd.read_csv(\"data/chocolate_rating.csv\", header=None)\n",
    "# header=None : 헤더가 따로 없을 때 없다고 해줘야 함\n",
    "# -> 아니면 1행이 헤더가 됨\n",
    "df3 = choco_df.head() # 맨 위의 5개만\n",
    "df4 = choco_df.tail() # 맨 아래의 5개만\n",
    "df3.to_csv(\"data/df3.csv\", index=False)\n",
    "df4.to_csv(\"data/df4.csv\", index=False)\n",
    "# index=False : 저장할 때 인덱스는 저장 안 되도록"
   ]
  },
  {
   "cell_type": "code",
   "execution_count": 37,
   "metadata": {},
   "outputs": [
    {
     "data": {
      "text/html": [
       "<div>\n",
       "<style scoped>\n",
       "    .dataframe tbody tr th:only-of-type {\n",
       "        vertical-align: middle;\n",
       "    }\n",
       "\n",
       "    .dataframe tbody tr th {\n",
       "        vertical-align: top;\n",
       "    }\n",
       "\n",
       "    .dataframe thead th {\n",
       "        text-align: right;\n",
       "    }\n",
       "</style>\n",
       "<table border=\"1\" class=\"dataframe\">\n",
       "  <thead>\n",
       "    <tr style=\"text-align: right;\">\n",
       "      <th></th>\n",
       "      <th>ID</th>\n",
       "      <th>이름</th>\n",
       "      <th>상징색</th>\n",
       "      <th>취미</th>\n",
       "      <th>특징</th>\n",
       "    </tr>\n",
       "  </thead>\n",
       "  <tbody>\n",
       "    <tr>\n",
       "      <th>0</th>\n",
       "      <td>1</td>\n",
       "      <td>뽀로로</td>\n",
       "      <td>파랑색</td>\n",
       "      <td>낚시</td>\n",
       "      <td>펭귄</td>\n",
       "    </tr>\n",
       "    <tr>\n",
       "      <th>1</th>\n",
       "      <td>2</td>\n",
       "      <td>에디</td>\n",
       "      <td>주황색</td>\n",
       "      <td>과학실험</td>\n",
       "      <td>사막여우</td>\n",
       "    </tr>\n",
       "    <tr>\n",
       "      <th>2</th>\n",
       "      <td>3</td>\n",
       "      <td>크롱</td>\n",
       "      <td>초록색</td>\n",
       "      <td>눈싸움</td>\n",
       "      <td>공룡</td>\n",
       "    </tr>\n",
       "    <tr>\n",
       "      <th>3</th>\n",
       "      <td>4</td>\n",
       "      <td>루피</td>\n",
       "      <td>분홍색</td>\n",
       "      <td>요리</td>\n",
       "      <td>비버</td>\n",
       "    </tr>\n",
       "    <tr>\n",
       "      <th>4</th>\n",
       "      <td>5</td>\n",
       "      <td>패티</td>\n",
       "      <td>보라색</td>\n",
       "      <td>운동</td>\n",
       "      <td>펭귄</td>\n",
       "    </tr>\n",
       "  </tbody>\n",
       "</table>\n",
       "</div>"
      ],
      "text/plain": [
       "   ID   이름  상징색    취미    특징\n",
       "0   1  뽀로로  파랑색    낚시    펭귄\n",
       "1   2   에디  주황색  과학실험  사막여우\n",
       "2   3   크롱  초록색   눈싸움    공룡\n",
       "3   4   루피  분홍색    요리    비버\n",
       "4   5   패티  보라색    운동    펭귄"
      ]
     },
     "execution_count": 37,
     "metadata": {},
     "output_type": "execute_result"
    }
   ],
   "source": [
    "charac_df = pd.read_excel(\"data/characters.xlsx\")\n",
    "charac_df.to_excel(\"data/dftest.xlsx\", index=False)\n",
    "charac_df"
   ]
  },
  {
   "cell_type": "code",
   "execution_count": 39,
   "metadata": {},
   "outputs": [
    {
     "name": "stdout",
     "output_type": "stream",
     "text": [
      "<class 'pandas.core.frame.DataFrame'>\n",
      "RangeIndex: 5 entries, 0 to 4\n",
      "Data columns (total 5 columns):\n",
      " #   Column  Non-Null Count  Dtype \n",
      "---  ------  --------------  ----- \n",
      " 0   ID      5 non-null      int64 \n",
      " 1   이름      5 non-null      object\n",
      " 2   상징색     5 non-null      object\n",
      " 3   취미      5 non-null      object\n",
      " 4   특징      5 non-null      object\n",
      "dtypes: int64(1), object(4)\n",
      "memory usage: 332.0+ bytes\n"
     ]
    }
   ],
   "source": [
    "charac_df.info()"
   ]
  },
  {
   "cell_type": "code",
   "execution_count": 38,
   "metadata": {},
   "outputs": [
    {
     "data": {
      "text/html": [
       "<div>\n",
       "<style scoped>\n",
       "    .dataframe tbody tr th:only-of-type {\n",
       "        vertical-align: middle;\n",
       "    }\n",
       "\n",
       "    .dataframe tbody tr th {\n",
       "        vertical-align: top;\n",
       "    }\n",
       "\n",
       "    .dataframe thead th {\n",
       "        text-align: right;\n",
       "    }\n",
       "</style>\n",
       "<table border=\"1\" class=\"dataframe\">\n",
       "  <thead>\n",
       "    <tr style=\"text-align: right;\">\n",
       "      <th></th>\n",
       "      <th>ID</th>\n",
       "      <th>이름</th>\n",
       "      <th>상징색</th>\n",
       "      <th>취미</th>\n",
       "      <th>특징</th>\n",
       "    </tr>\n",
       "  </thead>\n",
       "  <tbody>\n",
       "    <tr>\n",
       "      <th>0</th>\n",
       "      <td>1</td>\n",
       "      <td>뽀로로</td>\n",
       "      <td>파랑색</td>\n",
       "      <td>낚시</td>\n",
       "      <td>펭귄</td>\n",
       "    </tr>\n",
       "    <tr>\n",
       "      <th>1</th>\n",
       "      <td>2</td>\n",
       "      <td>에디</td>\n",
       "      <td>주황색</td>\n",
       "      <td>과학실험</td>\n",
       "      <td>사막여우</td>\n",
       "    </tr>\n",
       "    <tr>\n",
       "      <th>2</th>\n",
       "      <td>3</td>\n",
       "      <td>크롱</td>\n",
       "      <td>초록색</td>\n",
       "      <td>눈싸움</td>\n",
       "      <td>공룡</td>\n",
       "    </tr>\n",
       "    <tr>\n",
       "      <th>3</th>\n",
       "      <td>4</td>\n",
       "      <td>루피</td>\n",
       "      <td>분홍색</td>\n",
       "      <td>요리</td>\n",
       "      <td>비버</td>\n",
       "    </tr>\n",
       "    <tr>\n",
       "      <th>4</th>\n",
       "      <td>5</td>\n",
       "      <td>패티</td>\n",
       "      <td>보라색</td>\n",
       "      <td>운동</td>\n",
       "      <td>펭귄</td>\n",
       "    </tr>\n",
       "  </tbody>\n",
       "</table>\n",
       "</div>"
      ],
      "text/plain": [
       "   ID   이름  상징색    취미    특징\n",
       "0   1  뽀로로  파랑색    낚시    펭귄\n",
       "1   2   에디  주황색  과학실험  사막여우\n",
       "2   3   크롱  초록색   눈싸움    공룡\n",
       "3   4   루피  분홍색    요리    비버\n",
       "4   5   패티  보라색    운동    펭귄"
      ]
     },
     "execution_count": 38,
     "metadata": {},
     "output_type": "execute_result"
    }
   ],
   "source": [
    "charac_df2 = pd.read_excel(\"data/dftest.xlsx\")\n",
    "charac_df2"
   ]
  },
  {
   "cell_type": "code",
   "execution_count": 40,
   "metadata": {},
   "outputs": [
    {
     "name": "stdout",
     "output_type": "stream",
     "text": [
      "<class 'pandas.core.frame.DataFrame'>\n",
      "RangeIndex: 5 entries, 0 to 4\n",
      "Data columns (total 5 columns):\n",
      " #   Column  Non-Null Count  Dtype \n",
      "---  ------  --------------  ----- \n",
      " 0   ID      5 non-null      int64 \n",
      " 1   이름      5 non-null      object\n",
      " 2   상징색     5 non-null      object\n",
      " 3   취미      5 non-null      object\n",
      " 4   특징      5 non-null      object\n",
      "dtypes: int64(1), object(4)\n",
      "memory usage: 332.0+ bytes\n"
     ]
    }
   ],
   "source": [
    "charac_df2.info()"
   ]
  },
  {
   "cell_type": "code",
   "execution_count": 46,
   "metadata": {},
   "outputs": [
    {
     "data": {
      "text/html": [
       "<div>\n",
       "<style scoped>\n",
       "    .dataframe tbody tr th:only-of-type {\n",
       "        vertical-align: middle;\n",
       "    }\n",
       "\n",
       "    .dataframe tbody tr th {\n",
       "        vertical-align: top;\n",
       "    }\n",
       "\n",
       "    .dataframe thead th {\n",
       "        text-align: right;\n",
       "    }\n",
       "</style>\n",
       "<table border=\"1\" class=\"dataframe\">\n",
       "  <thead>\n",
       "    <tr style=\"text-align: right;\">\n",
       "      <th></th>\n",
       "      <th>0</th>\n",
       "      <th>1</th>\n",
       "      <th>2</th>\n",
       "      <th>3</th>\n",
       "    </tr>\n",
       "  </thead>\n",
       "  <tbody>\n",
       "    <tr>\n",
       "      <th>0</th>\n",
       "      <td>1</td>\n",
       "      <td>2016</td>\n",
       "      <td>0.63</td>\n",
       "      <td>3.75</td>\n",
       "    </tr>\n",
       "    <tr>\n",
       "      <th>1</th>\n",
       "      <td>2</td>\n",
       "      <td>2015</td>\n",
       "      <td>0.70</td>\n",
       "      <td>2.75</td>\n",
       "    </tr>\n",
       "    <tr>\n",
       "      <th>2</th>\n",
       "      <td>3</td>\n",
       "      <td>2015</td>\n",
       "      <td>0.70</td>\n",
       "      <td>3.00</td>\n",
       "    </tr>\n",
       "    <tr>\n",
       "      <th>3</th>\n",
       "      <td>4</td>\n",
       "      <td>2015</td>\n",
       "      <td>0.70</td>\n",
       "      <td>3.50</td>\n",
       "    </tr>\n",
       "    <tr>\n",
       "      <th>4</th>\n",
       "      <td>5</td>\n",
       "      <td>2015</td>\n",
       "      <td>0.70</td>\n",
       "      <td>3.50</td>\n",
       "    </tr>\n",
       "    <tr>\n",
       "      <th>...</th>\n",
       "      <td>...</td>\n",
       "      <td>...</td>\n",
       "      <td>...</td>\n",
       "      <td>...</td>\n",
       "    </tr>\n",
       "    <tr>\n",
       "      <th>1790</th>\n",
       "      <td>1791</td>\n",
       "      <td>2011</td>\n",
       "      <td>0.70</td>\n",
       "      <td>3.75</td>\n",
       "    </tr>\n",
       "    <tr>\n",
       "      <th>1791</th>\n",
       "      <td>1792</td>\n",
       "      <td>2011</td>\n",
       "      <td>0.65</td>\n",
       "      <td>3.00</td>\n",
       "    </tr>\n",
       "    <tr>\n",
       "      <th>1792</th>\n",
       "      <td>1793</td>\n",
       "      <td>2011</td>\n",
       "      <td>0.65</td>\n",
       "      <td>3.50</td>\n",
       "    </tr>\n",
       "    <tr>\n",
       "      <th>1793</th>\n",
       "      <td>1794</td>\n",
       "      <td>2011</td>\n",
       "      <td>0.62</td>\n",
       "      <td>3.25</td>\n",
       "    </tr>\n",
       "    <tr>\n",
       "      <th>1794</th>\n",
       "      <td>1795</td>\n",
       "      <td>2010</td>\n",
       "      <td>0.65</td>\n",
       "      <td>3.00</td>\n",
       "    </tr>\n",
       "  </tbody>\n",
       "</table>\n",
       "<p>1795 rows × 4 columns</p>\n",
       "</div>"
      ],
      "text/plain": [
       "         0     1     2     3\n",
       "0        1  2016  0.63  3.75\n",
       "1        2  2015  0.70  2.75\n",
       "2        3  2015  0.70  3.00\n",
       "3        4  2015  0.70  3.50\n",
       "4        5  2015  0.70  3.50\n",
       "...    ...   ...   ...   ...\n",
       "1790  1791  2011  0.70  3.75\n",
       "1791  1792  2011  0.65  3.00\n",
       "1792  1793  2011  0.65  3.50\n",
       "1793  1794  2011  0.62  3.25\n",
       "1794  1795  2010  0.65  3.00\n",
       "\n",
       "[1795 rows x 4 columns]"
      ]
     },
     "execution_count": 46,
     "metadata": {},
     "output_type": "execute_result"
    }
   ],
   "source": [
    "choco_df"
   ]
  },
  {
   "cell_type": "code",
   "execution_count": 47,
   "metadata": {},
   "outputs": [
    {
     "data": {
      "text/html": [
       "<div>\n",
       "<style scoped>\n",
       "    .dataframe tbody tr th:only-of-type {\n",
       "        vertical-align: middle;\n",
       "    }\n",
       "\n",
       "    .dataframe tbody tr th {\n",
       "        vertical-align: top;\n",
       "    }\n",
       "\n",
       "    .dataframe thead th {\n",
       "        text-align: right;\n",
       "    }\n",
       "</style>\n",
       "<table border=\"1\" class=\"dataframe\">\n",
       "  <thead>\n",
       "    <tr style=\"text-align: right;\">\n",
       "      <th></th>\n",
       "      <th>번호</th>\n",
       "      <th>연도</th>\n",
       "      <th>함유량</th>\n",
       "      <th>평점</th>\n",
       "    </tr>\n",
       "  </thead>\n",
       "  <tbody>\n",
       "    <tr>\n",
       "      <th>0</th>\n",
       "      <td>1</td>\n",
       "      <td>2016</td>\n",
       "      <td>0.63</td>\n",
       "      <td>3.75</td>\n",
       "    </tr>\n",
       "    <tr>\n",
       "      <th>1</th>\n",
       "      <td>2</td>\n",
       "      <td>2015</td>\n",
       "      <td>0.70</td>\n",
       "      <td>2.75</td>\n",
       "    </tr>\n",
       "    <tr>\n",
       "      <th>2</th>\n",
       "      <td>3</td>\n",
       "      <td>2015</td>\n",
       "      <td>0.70</td>\n",
       "      <td>3.00</td>\n",
       "    </tr>\n",
       "    <tr>\n",
       "      <th>3</th>\n",
       "      <td>4</td>\n",
       "      <td>2015</td>\n",
       "      <td>0.70</td>\n",
       "      <td>3.50</td>\n",
       "    </tr>\n",
       "    <tr>\n",
       "      <th>4</th>\n",
       "      <td>5</td>\n",
       "      <td>2015</td>\n",
       "      <td>0.70</td>\n",
       "      <td>3.50</td>\n",
       "    </tr>\n",
       "    <tr>\n",
       "      <th>...</th>\n",
       "      <td>...</td>\n",
       "      <td>...</td>\n",
       "      <td>...</td>\n",
       "      <td>...</td>\n",
       "    </tr>\n",
       "    <tr>\n",
       "      <th>1790</th>\n",
       "      <td>1791</td>\n",
       "      <td>2011</td>\n",
       "      <td>0.70</td>\n",
       "      <td>3.75</td>\n",
       "    </tr>\n",
       "    <tr>\n",
       "      <th>1791</th>\n",
       "      <td>1792</td>\n",
       "      <td>2011</td>\n",
       "      <td>0.65</td>\n",
       "      <td>3.00</td>\n",
       "    </tr>\n",
       "    <tr>\n",
       "      <th>1792</th>\n",
       "      <td>1793</td>\n",
       "      <td>2011</td>\n",
       "      <td>0.65</td>\n",
       "      <td>3.50</td>\n",
       "    </tr>\n",
       "    <tr>\n",
       "      <th>1793</th>\n",
       "      <td>1794</td>\n",
       "      <td>2011</td>\n",
       "      <td>0.62</td>\n",
       "      <td>3.25</td>\n",
       "    </tr>\n",
       "    <tr>\n",
       "      <th>1794</th>\n",
       "      <td>1795</td>\n",
       "      <td>2010</td>\n",
       "      <td>0.65</td>\n",
       "      <td>3.00</td>\n",
       "    </tr>\n",
       "  </tbody>\n",
       "</table>\n",
       "<p>1795 rows × 4 columns</p>\n",
       "</div>"
      ],
      "text/plain": [
       "        번호    연도   함유량    평점\n",
       "0        1  2016  0.63  3.75\n",
       "1        2  2015  0.70  2.75\n",
       "2        3  2015  0.70  3.00\n",
       "3        4  2015  0.70  3.50\n",
       "4        5  2015  0.70  3.50\n",
       "...    ...   ...   ...   ...\n",
       "1790  1791  2011  0.70  3.75\n",
       "1791  1792  2011  0.65  3.00\n",
       "1792  1793  2011  0.65  3.50\n",
       "1793  1794  2011  0.62  3.25\n",
       "1794  1795  2010  0.65  3.00\n",
       "\n",
       "[1795 rows x 4 columns]"
      ]
     },
     "execution_count": 47,
     "metadata": {},
     "output_type": "execute_result"
    }
   ],
   "source": [
    "# DataFrame : 조회\n",
    "\n",
    "# choco_df columns 지정해주기\n",
    "choco_df.columns=['번호', '연도', '함유량', '평점']\n",
    "choco_df"
   ]
  },
  {
   "cell_type": "code",
   "execution_count": 48,
   "metadata": {},
   "outputs": [
    {
     "name": "stdout",
     "output_type": "stream",
     "text": [
      "<class 'pandas.core.frame.DataFrame'>\n",
      "RangeIndex: 1795 entries, 0 to 1794\n",
      "Data columns (total 4 columns):\n",
      " #   Column  Non-Null Count  Dtype  \n",
      "---  ------  --------------  -----  \n",
      " 0   번호      1795 non-null   int64  \n",
      " 1   연도      1795 non-null   int64  \n",
      " 2   함유량     1795 non-null   float64\n",
      " 3   평점      1795 non-null   float64\n",
      "dtypes: float64(2), int64(2)\n",
      "memory usage: 56.2 KB\n"
     ]
    }
   ],
   "source": [
    "# DataFrame 정보 보기\n",
    "\n",
    "choco_df.info()"
   ]
  },
  {
   "cell_type": "code",
   "execution_count": 50,
   "metadata": {},
   "outputs": [
    {
     "name": "stdout",
     "output_type": "stream",
     "text": [
      "   번호    연도   함유량    평점\n",
      "0   1  2016  0.63  3.75\n",
      "1   2  2015  0.70  2.75\n",
      "2   3  2015  0.70  3.00\n",
      "3   4  2015  0.70  3.50\n",
      "4   5  2015  0.70  3.50\n",
      "        번호    연도   함유량    평점\n",
      "1790  1791  2011  0.70  3.75\n",
      "1791  1792  2011  0.65  3.00\n",
      "1792  1793  2011  0.65  3.50\n",
      "1793  1794  2011  0.62  3.25\n",
      "1794  1795  2010  0.65  3.00\n"
     ]
    }
   ],
   "source": [
    "# 데이터 보기\n",
    "\n",
    "# head() : 앞부분 데이터 5개 보기\n",
    "print(choco_df.head())\n",
    "# tail() : 뒷부분 데이터 5개 보기\n",
    "print(choco_df.tail())"
   ]
  },
  {
   "cell_type": "code",
   "execution_count": 51,
   "metadata": {},
   "outputs": [
    {
     "name": "stdout",
     "output_type": "stream",
     "text": [
      "   번호    연도   함유량    평점\n",
      "0   1  2016  0.63  3.75\n",
      "1   2  2015  0.70  2.75\n",
      "2   3  2015  0.70  3.00\n",
      "3   4  2015  0.70  3.50\n",
      "4   5  2015  0.70  3.50\n",
      "5   6  2014  0.70  2.75\n",
      "6   7  2014  0.70  3.50\n",
      "7   8  2014  0.70  3.50\n",
      "8   9  2014  0.70  3.75\n",
      "9  10  2014  0.70  4.00\n",
      "    번호    연도  함유량    평점\n",
      "10  11  2013  0.7  2.75\n",
      "11  12  2013  0.7  3.00\n",
      "12  13  2013  0.7  3.25\n",
      "13  14  2013  0.7  3.75\n",
      "14  15  2013  0.7  2.75\n",
      "15  16  2013  0.7  3.00\n",
      "16  17  2013  0.7  3.25\n",
      "17  18  2013  0.7  4.00\n",
      "18  19  2013  0.7  3.25\n",
      "19  20  2013  0.7  3.50\n"
     ]
    }
   ],
   "source": [
    "# 인덱스 0~9까지 데이터 보기\n",
    "print(choco_df[:10])\n",
    "# 인덱스 10~19까지 데이터 보기\n",
    "print(choco_df[10:20])"
   ]
  },
  {
   "cell_type": "code",
   "execution_count": 52,
   "metadata": {},
   "outputs": [
    {
     "name": "stdout",
     "output_type": "stream",
     "text": [
      "Index(['번호', '연도', '함유량', '평점'], dtype='object')\n",
      "RangeIndex(start=0, stop=1795, step=1)\n"
     ]
    }
   ],
   "source": [
    "# 열 이름, 인덱스 조회\n",
    "\n",
    "# 열 이름 조회\n",
    "print(choco_df.columns)\n",
    "\n",
    "# index\n",
    "print(choco_df.index)"
   ]
  },
  {
   "cell_type": "code",
   "execution_count": 53,
   "metadata": {},
   "outputs": [
    {
     "data": {
      "text/html": [
       "<div>\n",
       "<style scoped>\n",
       "    .dataframe tbody tr th:only-of-type {\n",
       "        vertical-align: middle;\n",
       "    }\n",
       "\n",
       "    .dataframe tbody tr th {\n",
       "        vertical-align: top;\n",
       "    }\n",
       "\n",
       "    .dataframe thead th {\n",
       "        text-align: right;\n",
       "    }\n",
       "</style>\n",
       "<table border=\"1\" class=\"dataframe\">\n",
       "  <thead>\n",
       "    <tr style=\"text-align: right;\">\n",
       "      <th></th>\n",
       "      <th>번호</th>\n",
       "      <th>연도</th>\n",
       "      <th>함유량</th>\n",
       "      <th>평점</th>\n",
       "    </tr>\n",
       "  </thead>\n",
       "  <tbody>\n",
       "    <tr>\n",
       "      <th>count</th>\n",
       "      <td>1795.000000</td>\n",
       "      <td>1795.000000</td>\n",
       "      <td>1795.000000</td>\n",
       "      <td>1795.000000</td>\n",
       "    </tr>\n",
       "    <tr>\n",
       "      <th>mean</th>\n",
       "      <td>898.000000</td>\n",
       "      <td>2012.325348</td>\n",
       "      <td>0.717003</td>\n",
       "      <td>3.185933</td>\n",
       "    </tr>\n",
       "    <tr>\n",
       "      <th>std</th>\n",
       "      <td>518.316184</td>\n",
       "      <td>2.927210</td>\n",
       "      <td>0.063230</td>\n",
       "      <td>0.478062</td>\n",
       "    </tr>\n",
       "    <tr>\n",
       "      <th>min</th>\n",
       "      <td>1.000000</td>\n",
       "      <td>2006.000000</td>\n",
       "      <td>0.420000</td>\n",
       "      <td>1.000000</td>\n",
       "    </tr>\n",
       "    <tr>\n",
       "      <th>25%</th>\n",
       "      <td>449.500000</td>\n",
       "      <td>2010.000000</td>\n",
       "      <td>0.700000</td>\n",
       "      <td>2.875000</td>\n",
       "    </tr>\n",
       "    <tr>\n",
       "      <th>50%</th>\n",
       "      <td>898.000000</td>\n",
       "      <td>2013.000000</td>\n",
       "      <td>0.700000</td>\n",
       "      <td>3.250000</td>\n",
       "    </tr>\n",
       "    <tr>\n",
       "      <th>75%</th>\n",
       "      <td>1346.500000</td>\n",
       "      <td>2015.000000</td>\n",
       "      <td>0.750000</td>\n",
       "      <td>3.500000</td>\n",
       "    </tr>\n",
       "    <tr>\n",
       "      <th>max</th>\n",
       "      <td>1795.000000</td>\n",
       "      <td>2017.000000</td>\n",
       "      <td>1.000000</td>\n",
       "      <td>5.000000</td>\n",
       "    </tr>\n",
       "  </tbody>\n",
       "</table>\n",
       "</div>"
      ],
      "text/plain": [
       "                번호           연도          함유량           평점\n",
       "count  1795.000000  1795.000000  1795.000000  1795.000000\n",
       "mean    898.000000  2012.325348     0.717003     3.185933\n",
       "std     518.316184     2.927210     0.063230     0.478062\n",
       "min       1.000000  2006.000000     0.420000     1.000000\n",
       "25%     449.500000  2010.000000     0.700000     2.875000\n",
       "50%     898.000000  2013.000000     0.700000     3.250000\n",
       "75%    1346.500000  2015.000000     0.750000     3.500000\n",
       "max    1795.000000  2017.000000     1.000000     5.000000"
      ]
     },
     "execution_count": 53,
     "metadata": {},
     "output_type": "execute_result"
    }
   ],
   "source": [
    "# describe() 함수 : 데이터 요약 정보를 보여줌\n",
    "\n",
    "choco_df.describe()"
   ]
  },
  {
   "cell_type": "code",
   "execution_count": 62,
   "metadata": {},
   "outputs": [
    {
     "data": {
      "text/html": [
       "<div>\n",
       "<style scoped>\n",
       "    .dataframe tbody tr th:only-of-type {\n",
       "        vertical-align: middle;\n",
       "    }\n",
       "\n",
       "    .dataframe tbody tr th {\n",
       "        vertical-align: top;\n",
       "    }\n",
       "\n",
       "    .dataframe thead th {\n",
       "        text-align: right;\n",
       "    }\n",
       "</style>\n",
       "<table border=\"1\" class=\"dataframe\">\n",
       "  <thead>\n",
       "    <tr style=\"text-align: right;\">\n",
       "      <th></th>\n",
       "      <th>name</th>\n",
       "      <th>year</th>\n",
       "      <th>point</th>\n",
       "    </tr>\n",
       "  </thead>\n",
       "  <tbody>\n",
       "    <tr>\n",
       "      <th>3</th>\n",
       "      <td>서연</td>\n",
       "      <td>2015</td>\n",
       "      <td>3.6</td>\n",
       "    </tr>\n",
       "    <tr>\n",
       "      <th>5</th>\n",
       "      <td>지현</td>\n",
       "      <td>2015</td>\n",
       "      <td>2.9</td>\n",
       "    </tr>\n",
       "    <tr>\n",
       "      <th>4</th>\n",
       "      <td>동현</td>\n",
       "      <td>2016</td>\n",
       "      <td>2.4</td>\n",
       "    </tr>\n",
       "    <tr>\n",
       "      <th>2</th>\n",
       "      <td>현우</td>\n",
       "      <td>2014</td>\n",
       "      <td>1.7</td>\n",
       "    </tr>\n",
       "    <tr>\n",
       "      <th>1</th>\n",
       "      <td>민준</td>\n",
       "      <td>2013</td>\n",
       "      <td>1.5</td>\n",
       "    </tr>\n",
       "  </tbody>\n",
       "</table>\n",
       "</div>"
      ],
      "text/plain": [
       "  name  year point\n",
       "3   서연  2015   3.6\n",
       "5   지현  2015   2.9\n",
       "4   동현  2016   2.4\n",
       "2   현우  2014   1.7\n",
       "1   민준  2013   1.5"
      ]
     },
     "execution_count": 62,
     "metadata": {},
     "output_type": "execute_result"
    }
   ],
   "source": [
    "# 인덱스 기준 정렬\n",
    "# ascending : True(오름차순), False(내림차순)\n",
    "df1.sort_index(axis=0, ascending=True)\n",
    "\n",
    "# 열 기준 정렬\n",
    "df1.sort_values(by=['point'], ascending=False)"
   ]
  }
 ],
 "metadata": {
  "kernelspec": {
   "display_name": "base",
   "language": "python",
   "name": "python3"
  },
  "language_info": {
   "codemirror_mode": {
    "name": "ipython",
    "version": 3
   },
   "file_extension": ".py",
   "mimetype": "text/x-python",
   "name": "python",
   "nbconvert_exporter": "python",
   "pygments_lexer": "ipython3",
   "version": "3.12.4"
  }
 },
 "nbformat": 4,
 "nbformat_minor": 2
}
