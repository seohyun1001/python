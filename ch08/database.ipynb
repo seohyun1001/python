{
 "cells": [
  {
   "cell_type": "code",
   "execution_count": 1,
   "metadata": {},
   "outputs": [],
   "source": [
    "import sqlite3"
   ]
  },
  {
   "cell_type": "code",
   "execution_count": 24,
   "metadata": {},
   "outputs": [],
   "source": [
    "def create_table():\n",
    "    conn = sqlite3.connect('my_books.db')\n",
    "    # db작업이 위의 파일에 들어감\n",
    "    cursor = conn.cursor()\n",
    "    #cursor 생성\n",
    "\n",
    "    sql='''create table if not exists books(\n",
    "        title text,\n",
    "        published_date text,\n",
    "        publisher text,\n",
    "        pages integer,\n",
    "        recommend integer\n",
    "    )'''\n",
    "    cursor.execute(sql)\n",
    "\n",
    "    conn.commit()\n",
    "    conn.close()\n",
    "create_table()"
   ]
  },
  {
   "cell_type": "code",
   "execution_count": 25,
   "metadata": {},
   "outputs": [],
   "source": [
    "def insert_books():\n",
    "    conn = sqlite3.connect('my_books.db')\n",
    "    cursor = conn.cursor()\n",
    "    sql = \"insert into books values('java', '2024-04'21', '길벗', 500, 10)\"\n",
    "    cursor.execute(sql)\n",
    "    conn.commit()\n",
    "    conn.close()\n"
   ]
  },
  {
   "cell_type": "code",
   "execution_count": 26,
   "metadata": {},
   "outputs": [],
   "source": [
    "def insert_books2(data):\n",
    "    conn = sqlite3.connect('my_books.db')\n",
    "    cursor = conn.cursor()\n",
    "    sql = \"insert into books values(?,?,?,?,?)\"\n",
    "    cursor.execute(sql, data)\n",
    "    conn.commit()\n",
    "    conn.close()\n"
   ]
  },
  {
   "cell_type": "code",
   "execution_count": 27,
   "metadata": {},
   "outputs": [],
   "source": [
    "data = ('python', '2024-02-01', '한빛', 350, 10)\n",
    "insert_books2(data)"
   ]
  },
  {
   "cell_type": "code",
   "execution_count": 16,
   "metadata": {},
   "outputs": [],
   "source": [
    "def insert_books3(datas):\n",
    "    conn = sqlite3.connect('my_books.db')\n",
    "    cursor = conn.cursor()\n",
    "    sql = \"insert into books values(?,?,?,?,?)\"\n",
    "    cursor.executemany(sql, datas)\n",
    "    conn.commit()\n",
    "    conn.close()"
   ]
  },
  {
   "cell_type": "code",
   "execution_count": 17,
   "metadata": {},
   "outputs": [
    {
     "data": {
      "text/plain": [
       "<function __main__.insert_books3(datas)>"
      ]
     },
     "execution_count": 17,
     "metadata": {},
     "output_type": "execute_result"
    }
   ],
   "source": [
    "datas=[('빅데이터', '2024-01-14' , '생능', 250, 20),\n",
    "       ('안드로이드', '2023-02-14', '이지퍼블리싱', 560, 30),\n",
    "       ('Spring', '2024-01-02', '영진', 650, 15)]\n",
    "insert_books3"
   ]
  }
 ],
 "metadata": {
  "kernelspec": {
   "display_name": "base",
   "language": "python",
   "name": "python3"
  },
  "language_info": {
   "codemirror_mode": {
    "name": "ipython",
    "version": 3
   },
   "file_extension": ".py",
   "mimetype": "text/x-python",
   "name": "python",
   "nbconvert_exporter": "python",
   "pygments_lexer": "ipython3",
   "version": "3.12.4"
  }
 },
 "nbformat": 4,
 "nbformat_minor": 2
}
