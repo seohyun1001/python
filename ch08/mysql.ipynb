{
 "cells": [
  {
   "cell_type": "code",
   "execution_count": 1,
   "metadata": {},
   "outputs": [
    {
     "name": "stdout",
     "output_type": "stream",
     "text": [
      "Requirement already satisfied: pymysql in c:\\users\\it\\anaconda3\\lib\\site-packages (1.1.1)\n"
     ]
    }
   ],
   "source": [
    "! pip install pymysql\n"
   ]
  },
  {
   "cell_type": "code",
   "execution_count": 2,
   "metadata": {},
   "outputs": [],
   "source": [
    "import pymysql"
   ]
  },
  {
   "cell_type": "code",
   "execution_count": 4,
   "metadata": {},
   "outputs": [],
   "source": [
    "# DB 연결\n",
    "\n",
    "conn = pymysql.connect (\n",
    "    host='localhost',\n",
    "    user='ksh',\n",
    "    password='1234',\n",
    "    db='pydb',\n",
    "    charset='utf8'\n",
    "    )\n",
    "\n",
    "cursor = conn.cursor()\n"
   ]
  },
  {
   "cell_type": "code",
   "execution_count": 5,
   "metadata": {},
   "outputs": [],
   "source": [
    "# 데이터 입력\n",
    "# 1개의 데이터 입력\n",
    "def insert_data1(data):\n",
    "    conn = pymysql.connect(\n",
    "        host='localhost',\n",
    "        user='ksh',\n",
    "        password='1234',\n",
    "        db='pydb',\n",
    "        charset='utf8')\n",
    "    cursor = conn.cursor()\n",
    "    sql = \"insert into book(title, pub, pages, author) values(%s, %s, %s, %s)\"\n",
    "    cursor.execute(sql, data)\n",
    "    conn.commit()\n",
    "    conn.close()"
   ]
  },
  {
   "cell_type": "code",
   "execution_count": 6,
   "metadata": {},
   "outputs": [],
   "source": [
    "data=('python program', '한빛', 20, '홍길동')\n",
    "insert_data1(data)"
   ]
  },
  {
   "cell_type": "code",
   "execution_count": 10,
   "metadata": {},
   "outputs": [],
   "source": [
    "# 복수의 데이터 입력\n",
    "def insert_data2(datas):\n",
    "    conn = pymysql.connect(\n",
    "        host='localhost',\n",
    "        user='ksh',\n",
    "        password='1234',\n",
    "        db='pydb',\n",
    "        charset='utf8')\n",
    "    cursor = conn.cursor()\n",
    "    sql = \"insert into book(title, pub, pages, author) values(%s, %s, %s, %s)\"\n",
    "    cursor.executemany(sql, datas)\n",
    "    conn.commit()\n",
    "    conn.close()"
   ]
  },
  {
   "cell_type": "code",
   "execution_count": 11,
   "metadata": {},
   "outputs": [],
   "source": [
    "data_list=[('java', '생능', 500, '황기태'),\n",
    "           ('database', '한빛', 350, '서진수')]\n",
    "insert_data2(data_list)"
   ]
  },
  {
   "cell_type": "code",
   "execution_count": 12,
   "metadata": {},
   "outputs": [
    {
     "name": "stdout",
     "output_type": "stream",
     "text": [
      "(1, 'python program', '한빛', 20, '홍길동')\n",
      "(2, 'java', '생능', 500, '황기태')\n",
      "(3, 'database', '한빛', 350, '서진수')\n"
     ]
    }
   ],
   "source": [
    "# 데이터 조회\n",
    "\n",
    "# 전체 데이터 조회\n",
    "def select_all():\n",
    "    conn = pymysql.connect(\n",
    "        host='localhost',\n",
    "        user='ksh',\n",
    "        password='1234',\n",
    "        db='pydb',\n",
    "        charset='utf8')\n",
    "    cursor=conn.cursor()\n",
    "    sql = \"select * from book\"\n",
    "    cursor.execute(sql)\n",
    "    for book in cursor:\n",
    "        print(book)\n",
    "    conn.close()\n",
    "\n",
    "select_all()"
   ]
  },
  {
   "cell_type": "code",
   "execution_count": 17,
   "metadata": {},
   "outputs": [
    {
     "name": "stdout",
     "output_type": "stream",
     "text": [
      "(2, 'java', '생능', 500, '황기태')\n"
     ]
    }
   ],
   "source": [
    "# 조건 검색\n",
    "def select_condition(title):\n",
    "    conn = pymysql.connect(\n",
    "        host='localhost',\n",
    "        user='ksh',\n",
    "        password='1234',\n",
    "        db='pydb',\n",
    "        charset='utf8')\n",
    "    cursor=conn.cursor()\n",
    "    sql = \"select * from book where title = %s\"\n",
    "    cursor.execute(sql, (title))\n",
    "    for book in cursor:\n",
    "        print(book)\n",
    "    conn.close()\n",
    "\n",
    "select_condition('java')"
   ]
  }
 ],
 "metadata": {
  "kernelspec": {
   "display_name": "base",
   "language": "python",
   "name": "python3"
  },
  "language_info": {
   "codemirror_mode": {
    "name": "ipython",
    "version": 3
   },
   "file_extension": ".py",
   "mimetype": "text/x-python",
   "name": "python",
   "nbconvert_exporter": "python",
   "pygments_lexer": "ipython3",
   "version": "3.12.4"
  }
 },
 "nbformat": 4,
 "nbformat_minor": 2
}
