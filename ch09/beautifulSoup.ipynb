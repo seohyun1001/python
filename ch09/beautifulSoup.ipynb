{
 "cells": [
  {
   "cell_type": "code",
   "execution_count": 2,
   "metadata": {},
   "outputs": [],
   "source": [
    "# 정적 웹크롤링\n",
    "\n",
    "from bs4 import BeautifulSoup"
   ]
  },
  {
   "cell_type": "code",
   "execution_count": 26,
   "metadata": {},
   "outputs": [],
   "source": [
    "html_doc = \"\"\"\n",
    "<!DOCTYPE html>\n",
    "<html>\n",
    "    <head>\n",
    "        <meta charset=\"utf-8\">\n",
    "        <title>Test BeautifulSoup</title>\n",
    "    </head>\n",
    "    <body>\n",
    "        <h1>웹 크롤링 테스트</h1>\n",
    "        <p align=\"center\">p tag content</p>\n",
    "        <img src=\"http://unico2013.dothome.co.kr/image/flower.jpg\" width=\"300\" alt=\"flower\">\n",
    "        <ul>\n",
    "            <li>test1<strong>strong</strong></li>\n",
    "            <li>test2</li>\n",
    "            <li>test3</li>\n",
    "        </ul>\n",
    "    </body>\n",
    "</html> \"\"\""
   ]
  },
  {
   "cell_type": "code",
   "execution_count": 30,
   "metadata": {},
   "outputs": [
    {
     "name": "stdout",
     "output_type": "stream",
     "text": [
      "<title>Test BeautifulSoup</title>\n",
      "title\n",
      "Test BeautifulSoup\n",
      "---------------------------------------------------------------------\n",
      "p tag content\n",
      "None\n",
      "test1strong\n",
      "---------------------------------------------------------------------\n",
      "http://unico2013.dothome.co.kr/image/flower.jpg\n",
      "{'src': 'http://unico2013.dothome.co.kr/image/flower.jpg', 'width': '300', 'alt': 'flower'}\n",
      "['\\n', <li>test1<strong>strong</strong></li>, '\\n', <li>test2</li>, '\\n', <li>test3</li>, '\\n']\n"
     ]
    }
   ],
   "source": [
    "bs = BeautifulSoup(html_doc,'html.parser')\n",
    "# bs1=BeautifulSoup(html_doc, 'lxml')\n",
    "# bs2=BeautifulSoup(html_doc, 'lxml-xml')\n",
    "# bs3=BeautifulSoup(html_doc, 'html5lib')\n",
    "\n",
    "print(bs.title)\n",
    "print(bs.title.name)\n",
    "print(bs.title.string)\n",
    "print(\"---------------------------------------------------------------------\")\n",
    "print(bs.p.string)\n",
    "print(bs.ul.li.string)\n",
    "print(bs.ul.li.text)\n",
    "print(\"---------------------------------------------------------------------\")\n",
    "print(bs.img['src'])\n",
    "print(bs.img.attrs)\n",
    "print(bs.ul.contents)\n"
   ]
  },
  {
   "cell_type": "code",
   "execution_count": 36,
   "metadata": {},
   "outputs": [
    {
     "name": "stdout",
     "output_type": "stream",
     "text": [
      "[<li>test1<strong>strong</strong></li>, <li>test2</li>, <li>test3</li>]\n",
      "test1strong\n",
      "test2\n",
      "test3\n",
      "<li>test1<strong>strong</strong></li>\n"
     ]
    }
   ],
   "source": [
    "# bs4.BeautifulSoup 객체의 주요 메서드 : bs.find_all()\n",
    "# find_all(name=None, attrs={}, recursive=True, text=None, limit=None, **kwargs)\n",
    "\n",
    "li_list = bs.find_all('li')\n",
    "print(li_list)\n",
    "for li in li_list:\n",
    "    print(li.get_text())\n",
    "\n",
    "# 맨 처음 요소 하나만 가져옴\n",
    "li1 = bs.find('li')\n",
    "print(li1)"
   ]
  },
  {
   "cell_type": "code",
   "execution_count": 38,
   "metadata": {},
   "outputs": [
    {
     "name": "stdout",
     "output_type": "stream",
     "text": [
      "\n",
      "<!DOCTYPE html>\n",
      "\n",
      "<html>\n",
      "<head>\n",
      "<meta charset=\"utf-8\"/>\n",
      "<title>Test BeautifulSoup</title>\n",
      "</head>\n",
      "<body>\n",
      "<h1>웹 크롤링 테스트</h1>\n",
      "<p align=\"center\">p tag content</p>\n",
      "<img alt=\"flower\" src=\"http://unico2013.dothome.co.kr/image/flower.jpg\" width=\"300\"/>\n",
      "<ul>\n",
      "<li>test1<strong>strong</strong></li>\n",
      "<li>test2</li>\n",
      "<li>test3</li>\n",
      "</ul>\n",
      "</body>\n",
      "</html> \n"
     ]
    }
   ],
   "source": [
    "print(bs)"
   ]
  },
  {
   "cell_type": "code",
   "execution_count": 42,
   "metadata": {},
   "outputs": [
    {
     "name": "stdout",
     "output_type": "stream",
     "text": [
      "[<li>test1<strong>strong</strong></li>, <li>test2</li>, <li>test3</li>]\n",
      "<p align=\"center\">p tag content</p>\n"
     ]
    }
   ],
   "source": [
    "li_list2 = bs.select('ul>li')\n",
    "print(li_list2)\n",
    "p1 = bs.select_one('p')\n",
    "print(p1)"
   ]
  }
 ],
 "metadata": {
  "kernelspec": {
   "display_name": "base",
   "language": "python",
   "name": "python3"
  },
  "language_info": {
   "codemirror_mode": {
    "name": "ipython",
    "version": 3
   },
   "file_extension": ".py",
   "mimetype": "text/x-python",
   "name": "python",
   "nbconvert_exporter": "python",
   "pygments_lexer": "ipython3",
   "version": "3.12.4"
  }
 },
 "nbformat": 4,
 "nbformat_minor": 2
}
