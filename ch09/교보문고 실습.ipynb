{
 "cells": [
  {
   "cell_type": "code",
   "execution_count": 1,
   "metadata": {},
   "outputs": [],
   "source": [
    "import urllib.request as req\n",
    "from bs4 import BeautifulSoup as soup\n",
    "base='https://search.kyobobook.co.kr/search?keyword=%EC%9E%90%EB%B0%94&gbCode=TOT&target=total'\n",
    "book_list=[]"
   ]
  },
  {
   "cell_type": "code",
   "execution_count": 2,
   "metadata": {},
   "outputs": [],
   "source": [
    "def image_save(bid):\n",
    "  url='https://contents.kyobobook.co.kr/sih/fit-in/200x0/pdt/'+bid+'.jpg'\n",
    "  save_path='./images/'+bid+'.jpg'\n",
    "  req.urlretrieve(url, save_path)\n",
    "  print(\"이미지 저장\", bid+\".jpg\")"
   ]
  },
  {
   "cell_type": "code",
   "execution_count": 9,
   "metadata": {},
   "outputs": [],
   "source": [
    "html=req.urlopen(base)\n",
    "bs=soup(html,'html.parser')\n",
    "item_list=bs.select('#shopData_list > ul > li')\n",
    "#print(item_list)\n",
    "for item in item_list:\n",
    "  title=item.select_one('div.prod_area.horizontal > div.prod_info_box > div.auto_overflow_wrap.prod_name_group > div.auto_overflow_contents > div > a')\n",
    "  print(title.text.strip().split('\\n'))\n",
    "  # title=title.text.strip().split('\\n')[-1].replace(',','').replace(\":\",\"_\")\n",
    "  # #print(title)\n",
    "  # author=item.select_one('div.prod_area.horizontal > div.prod_info_box > div.prod_author_info > div.auto_overflow_wrap.prod_author_group > div.auto_overflow_contents > div>a')\n",
    "  # author=author.text.strip()\n",
    "  # price=item.select_one('div.prod_area.horizontal > div.prod_info_box > div.prod_price > span.price')\n",
    "  # if (price==None):\n",
    "  #   price=0\n",
    "  # else:\n",
    "  #   price=price.text.strip().split(\"\\n\")[0].replace(\",\",'').replace('무료도서','0')\n",
    "  # #print(title, author, price)\n",
    "  # pub=item.select_one('div.prod_area.horizontal > div.prod_info_box > div.prod_author_info > div.prod_publish > a')\n",
    "  # pub=pub.text\n",
    "\n",
    "  # pub_date=item.select_one('div.prod_area.horizontal > div.prod_info_box > div.prod_author_info > div.prod_publish > span.date')\n",
    "  # pub_date=pub_date.text\n",
    "  # book_list.append((title, author, price, pub, pub_date))\n",
    "  img=item.select_one('div.prod_area.horizontal > div.prod_thumb_box.size_lg > a > span > img')\n",
    "  print(img)\n",
    "  image_save(img['data-kbbfn-bid'])\n"
   ]
  },
  {
   "cell_type": "code",
   "execution_count": 3,
   "metadata": {},
   "outputs": [
    {
     "data": {
      "text/plain": [
       "[('자바스크립트 + 리액트 디자인 패턴', '애디 오스마니', '25200', '한빛미디어', '2024년 08월 01일'),\n",
       " ('파이썬과 자바스크립트로 배우는 OpenAI 프로그래밍', '쇼다 쓰야노', '28800', '제이펍', '2024년 08월 16일'),\n",
       " ('기본기가 탄탄한 자바 개발자', '벤저민 J. 에번스', '40500', '제이펍', '2024년 08월 14일'),\n",
       " ('혼자 공부하는 자바', '신용권', '25200', '한빛미디어', '2024년 02월 01일'),\n",
       " ('[무료특별판] 이것이 자바다(개정판)', '신용권', '0', '한빛미디어', '2022년 08월 30일'),\n",
       " ('코딩 테스트 합격자 되기_ 자바스크립트 편', '이선협', '37800', '골든래빗(주)', '2024년 07월 01일'),\n",
       " ('자바/스프링 개발자를 위한 실용주의 프로그래밍', '김우근', '28800', '위키북스', '2024년 06월 11일'),\n",
       " ('모던 자바스크립트 Deep Dive', '이웅모', '40500', '위키북스', '2020년 09월 25일'),\n",
       " ('이것이 자바다', '신용권', '34200', '한빛미디어', '2024년 04월 01일'),\n",
       " ('코딩 자율학습 HTML + CSS + 자바스크립트', '김기수', '24300', '길벗', '2022년 04월 25일'),\n",
       " ('모던 자바스크립트 Deep Dive', '이웅모', 0, '위키북스', '2021년 01월 04일'),\n",
       " ('자바 ORM 표준 JPA 프로그래밍', '김영한', '38700', '에이콘출판', '2015년 07월 28일'),\n",
       " ('스프링 부트 3 백엔드 개발자 되기_ 자바 편', '신선영', '28800', '골든래빗(주)', '2024년 04월 05일'),\n",
       " ('자바 잘 읽는 법', '라우렌치우 스필커', '25200', '제이펍', '2024년 05월 09일'),\n",
       " ('Do it! 알고리즘 코딩 테스트_ 자바 편', '김종관', '28800', '이지스퍼블리싱', '2022년 04월 05일'),\n",
       " ('이펙티브 자바', '조슈아 블로크', '32400', '인사이트', '2018년 11월 01일'),\n",
       " ('코딩 테스트 합격자 되기_ 자바 편', '김희성', '37800', '골든래빗(주)', '2024년 03월 01일'),\n",
       " ('스프링 부트 3 백엔드 개발자 되기_ 자바 편', '신선영', 0, '골든래빗(주)', '2024년 04월 20일'),\n",
       " ('이것이 자바다', '신용권', 0, '한빛미디어', '2022년 09월 02일'),\n",
       " ('코딩 자율학습 스프링 부트 3 자바 백엔드 개발 입문', '홍팍', '29700', '길벗', '2023년 07월 10일')]"
      ]
     },
     "execution_count": 3,
     "metadata": {},
     "output_type": "execute_result"
    }
   ],
   "source": [
    "book_list"
   ]
  },
  {
   "cell_type": "code",
   "execution_count": 5,
   "metadata": {},
   "outputs": [],
   "source": [
    "import pandas as pd\n",
    "df=pd.DataFrame(book_list, \n",
    "                columns=['title','author','price','pub','pub_date'])\n",
    "df.to_csv('./book_list2.csv', index=False)\n"
   ]
  },
  {
   "cell_type": "code",
   "execution_count": 6,
   "metadata": {},
   "outputs": [],
   "source": [
    "import pymysql\n",
    "\n",
    "def insert_books(books):\n",
    "    conn = pymysql.connect( #pymysql 라이브러리 사용 DB연결\n",
    "        host='localhost',\n",
    "        user='ksh',\n",
    "        password='1234',\n",
    "        db='pydb',\n",
    "        charset='utf8')\n",
    "    cursor=conn.cursor()\n",
    "    sql=\"insert into book_java(title,author,price,pub,pub_date) values(%s,%s,%s,%s,%s)\"\n",
    "    cursor.executemany(sql, books)\n",
    "    conn.commit()\n",
    "    conn.close()\n",
    "\n",
    "insert_books(book_list)\n"
   ]
  },
  {
   "cell_type": "code",
   "execution_count": 7,
   "metadata": {},
   "outputs": [
    {
     "name": "stdout",
     "output_type": "stream",
     "text": [
      "(1, '자바스크립트 + 리액트 디자인 패턴', '애디 오스마니', '25200', '한빛미디어', '2024년 08월 01일')\n",
      "(2, '파이썬과 자바스크립트로 배우는 OpenAI 프로그래밍', '쇼다 쓰야노', '28800', '제이펍', '2024년 08월 16일')\n",
      "(3, '기본기가 탄탄한 자바 개발자', '벤저민 J. 에번스', '40500', '제이펍', '2024년 08월 14일')\n",
      "(4, '혼자 공부하는 자바', '신용권', '25200', '한빛미디어', '2024년 02월 01일')\n",
      "(5, '[무료특별판] 이것이 자바다(개정판)', '신용권', '0', '한빛미디어', '2022년 08월 30일')\n",
      "(6, '코딩 테스트 합격자 되기_ 자바스크립트 편', '이선협', '37800', '골든래빗(주)', '2024년 07월 01일')\n",
      "(7, '자바/스프링 개발자를 위한 실용주의 프로그래밍', '김우근', '28800', '위키북스', '2024년 06월 11일')\n",
      "(8, '모던 자바스크립트 Deep Dive', '이웅모', '40500', '위키북스', '2020년 09월 25일')\n",
      "(9, '이것이 자바다', '신용권', '34200', '한빛미디어', '2024년 04월 01일')\n",
      "(10, '코딩 자율학습 HTML + CSS + 자바스크립트', '김기수', '24300', '길벗', '2022년 04월 25일')\n",
      "(11, '모던 자바스크립트 Deep Dive', '이웅모', '0', '위키북스', '2021년 01월 04일')\n",
      "(12, '자바 ORM 표준 JPA 프로그래밍', '김영한', '38700', '에이콘출판', '2015년 07월 28일')\n",
      "(13, '스프링 부트 3 백엔드 개발자 되기_ 자바 편', '신선영', '28800', '골든래빗(주)', '2024년 04월 05일')\n",
      "(14, '자바 잘 읽는 법', '라우렌치우 스필커', '25200', '제이펍', '2024년 05월 09일')\n",
      "(15, 'Do it! 알고리즘 코딩 테스트_ 자바 편', '김종관', '28800', '이지스퍼블리싱', '2022년 04월 05일')\n",
      "(16, '이펙티브 자바', '조슈아 블로크', '32400', '인사이트', '2018년 11월 01일')\n",
      "(17, '코딩 테스트 합격자 되기_ 자바 편', '김희성', '37800', '골든래빗(주)', '2024년 03월 01일')\n",
      "(18, '스프링 부트 3 백엔드 개발자 되기_ 자바 편', '신선영', '0', '골든래빗(주)', '2024년 04월 20일')\n",
      "(19, '이것이 자바다', '신용권', '0', '한빛미디어', '2022년 09월 02일')\n",
      "(20, '코딩 자율학습 스프링 부트 3 자바 백엔드 개발 입문', '홍팍', '29700', '길벗', '2023년 07월 10일')\n"
     ]
    }
   ],
   "source": [
    "def select_all():\n",
    "    conn = pymysql.connect(\n",
    "        host='localhost',\n",
    "        user='ksh',\n",
    "        password='1234',\n",
    "        db='pydb',\n",
    "        charset='utf8')\n",
    "    cursor=conn.cursor()\n",
    "    sql=\"select * from book_java\"\n",
    "    cursor.execute(sql)\n",
    "    for book in cursor:\n",
    "        print(book)\n",
    "    conn.close()\n",
    "\n",
    "select_all()"
   ]
  }
 ],
 "metadata": {
  "kernelspec": {
   "display_name": "base",
   "language": "python",
   "name": "python3"
  },
  "language_info": {
   "codemirror_mode": {
    "name": "ipython",
    "version": 3
   },
   "file_extension": ".py",
   "mimetype": "text/x-python",
   "name": "python",
   "nbconvert_exporter": "python",
   "pygments_lexer": "ipython3",
   "version": "3.12.4"
  }
 },
 "nbformat": 4,
 "nbformat_minor": 2
}
