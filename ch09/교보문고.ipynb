{
 "cells": [
  {
   "cell_type": "code",
   "execution_count": 1,
   "metadata": {},
   "outputs": [],
   "source": [
    "import urllib.request as req\n",
    "from bs4 import BeautifulSoup as soup\n",
    "base='https://search.kyobobook.co.kr/search?keyword=python&gbCode=TOT&target=total'\n",
    "book_list=[]"
   ]
  },
  {
   "cell_type": "code",
   "execution_count": 2,
   "metadata": {},
   "outputs": [],
   "source": [
    "def image_save(bid):\n",
    "  url='https://contents.kyobobook.co.kr/sih/fit-in/200x0/pdt/'+bid+'.jpg'\n",
    "  save_path='data/images/'+bid+'.jpg'\n",
    "  req.urlretrieve(url, save_path)\n",
    "  print(\"이미지 저장\", bid+\".jpg\")"
   ]
  },
  {
   "cell_type": "code",
   "execution_count": 3,
   "metadata": {},
   "outputs": [],
   "source": [
    "html=req.urlopen(base)\n",
    "bs=soup(html,'html.parser')\n",
    "item_list=bs.select('#shopData_list > ul > li')\n",
    "#print(item_list)\n",
    "for item in item_list:\n",
    "  title=item.select_one('div.prod_area.horizontal > div.prod_info_box > div.auto_overflow_wrap.prod_name_group > div.auto_overflow_contents > div > a')\n",
    "  #print(title.text.strip().split('\\n'))\n",
    "  title=title.text.strip().split('\\n')[-1].replace(',','').replace(\":\",\"_\")\n",
    "  #print(title)\n",
    "  author=item.select_one('div.prod_area.horizontal > div.prod_info_box > div.prod_author_info > div.auto_overflow_wrap.prod_author_group > div.auto_overflow_contents > div>a')\n",
    "  author=author.text.strip()\n",
    "  price=item.select_one('div.prod_area.horizontal > div.prod_info_box > div.prod_price > span.price')\n",
    "  if (price==None):\n",
    "    price=0\n",
    "  else:\n",
    "    price=price.text.strip().split(\"\\n\")[0].replace(\",\",'').replace('무료도서','0')\n",
    "  #print(title, author, price)\n",
    "  pub=item.select_one('div.prod_area.horizontal > div.prod_info_box > div.prod_author_info > div.prod_publish > a')\n",
    "  pub=pub.text\n",
    "\n",
    "  pub_date=item.select_one('div.prod_area.horizontal > div.prod_info_box > div.prod_author_info > div.prod_publish > span.date')\n",
    "  pub_date=pub_date.text\n",
    "  book_list.append((title, author, price, pub, pub_date))\n",
    "  #img=item.select_one('div.prod_area.horizontal > div.prod_thumb_box.size_lg > a > span > img')\n",
    "  #print(img)\n",
    "  #image_save(img['data-kbbfn-bid'])\n"
   ]
  },
  {
   "cell_type": "code",
   "execution_count": 4,
   "metadata": {},
   "outputs": [
    {
     "data": {
      "text/plain": [
       "[('파이썬컴퓨팅', '한종대', '14130', '한국인력리스', '2024년 07월 25일'),\n",
       " ('파이썬과 AI 인공지능 카메라를 활용한 자율주행 자동차', '장문철', '22950', '앤써북', '2024년 08월 20일'),\n",
       " ('네트워크 인프라 자동화 _SDN 개념부터 파이썬 리눅스 Ansible 활용까지',\n",
       "  '맷 오스왈트',\n",
       "  '58500',\n",
       "  '한빛미디어',\n",
       "  '2024년 08월 10일'),\n",
       " ('파이썬과 자바스크립트로 배우는 OpenAI 프로그래밍', '쇼다 쓰야노', '28800', '제이펍', '2024년 08월 16일'),\n",
       " ('파이썬으로 구현하는 로보어드바이저', '윤성진', '32400', '에이콘출판', '2024년 07월 31일'),\n",
       " ('[무료특별판] 미국 주식으로 시작하는 슬기로운 퀀트투자', '김용환', '0', '한빛미디어', '2021년 10월 29일'),\n",
       " ('파이썬으로 시작하는 데이터 분석', '강지영', '19800', '아이리포', '2021년 07월 15일'),\n",
       " ('초보자를 위한 파이썬(Python) 200제', '장삼용', '18000', '정보문화사', '2017년 02월 27일'),\n",
       " ('[epub3.0] (Better Python Code)파이썬 코딩의 기술 51',\n",
       "  '데이비드 메르츠 저자, 김진호 번역',\n",
       "  0,\n",
       "  '길벗',\n",
       "  '2024년 07월 18일'),\n",
       " ('2024 빅데이터분석기사 실기 한권완성_ 파이썬(Python)',\n",
       "  '최예신',\n",
       "  '27000',\n",
       "  '예문에듀',\n",
       "  '2024년 05월 20일'),\n",
       " ('누구나 할 수 있다 파이썬 Python 기초', '박빈', 0, '와이웨이브이퍼블리싱', '2024년 03월 22일'),\n",
       " ('초보자를 위한 파이썬(Python) 200제', '장삼용', 0, '정보문화사', '2017년 03월 07일'),\n",
       " ('Head First Python', '우정은', 0, '한빛미디어', '2017년 12월 11일'),\n",
       " ('파이썬 딥러닝 파이토치(Python Deep Learning PyTorch)',\n",
       "  '이경택',\n",
       "  0,\n",
       "  '정보문화사',\n",
       "  '2020년 11월 27일'),\n",
       " ('파이썬(Python) 3학년 머신러닝의 구조', '모리 요시나오', '16200', '성안당', '2023년 09월 20일'),\n",
       " ('생활코딩! 파이썬', '이고잉', '16200', '범', '2020년 03월 23일'),\n",
       " ('파이썬 딥러닝 파이토치(Python Deep Learning PyTorch)',\n",
       "  '이경택',\n",
       "  '22500',\n",
       "  '정보문화사',\n",
       "  '2020년 10월 08일'),\n",
       " ('파이썬(Python)', '박병기', 0, '아티오', '2017년 01월 17일'),\n",
       " ('Python(파이썬)과 Matplotlib NumPy Pandas', '양원영', 0, '유페이퍼', '2021년 03월 17일'),\n",
       " ('파이썬(Python) 3학년 머신러닝의 구조', '모리 요시나오', 0, '성안당', '2023년 09월 12일')]"
      ]
     },
     "execution_count": 4,
     "metadata": {},
     "output_type": "execute_result"
    }
   ],
   "source": [
    "book_list"
   ]
  },
  {
   "cell_type": "code",
   "execution_count": 21,
   "metadata": {},
   "outputs": [],
   "source": [
    "import pandas as pd\n",
    "df=pd.DataFrame(book_list, \n",
    "                columns=['title','author','price','pub','pub_date'])\n",
    "df.to_csv('./book_list.csv', index=False)\n"
   ]
  },
  {
   "cell_type": "code",
   "execution_count": 19,
   "metadata": {},
   "outputs": [],
   "source": [
    "import pymysql\n",
    "\n",
    "def insert_books(books):\n",
    "    conn = pymysql.connect( #pymysql 라이브러리 사용 DB연결\n",
    "        host='localhost',\n",
    "        user='ksh',\n",
    "        password='1234',\n",
    "        db='pydb',\n",
    "        charset='utf8')\n",
    "    cursor=conn.cursor()\n",
    "    sql=\"insert into book_tbl(title,author,price,pub,pub_date) values(%s,%s,%s,%s,%s)\"\n",
    "    cursor.executemany(sql, books)\n",
    "    conn.commit()\n",
    "    conn.close()\n",
    "\n",
    "insert_books(book_list)\n"
   ]
  },
  {
   "cell_type": "code",
   "execution_count": 20,
   "metadata": {},
   "outputs": [
    {
     "name": "stdout",
     "output_type": "stream",
     "text": [
      "(1, '파이썬컴퓨팅', '한종대', '14130', '한국인력리스', '2024년 07월 25일')\n",
      "(2, '파이썬과 AI 인공지능 카메라를 활용한 자율주행 자동차', '장문철', '22950', '앤써북', '2024년 08월 20일')\n",
      "(3, '네트워크 인프라 자동화 _SDN 개념부터 파이썬 리눅스 Ansible 활용까지', '맷 오스왈트', '58500', '한빛미디어', '2024년 08월 10일')\n",
      "(4, '파이썬과 자바스크립트로 배우는 OpenAI 프로그래밍', '쇼다 쓰야노', '28800', '제이펍', '2024년 08월 16일')\n",
      "(5, '파이썬으로 구현하는 로보어드바이저', '윤성진', '32400', '에이콘출판', '2024년 07월 31일')\n",
      "(6, '[무료특별판] 미국 주식으로 시작하는 슬기로운 퀀트투자', '김용환', '0', '한빛미디어', '2021년 10월 29일')\n",
      "(7, '파이썬으로 시작하는 데이터 분석', '강지영', '19800', '아이리포', '2021년 07월 15일')\n",
      "(8, '초보자를 위한 파이썬(Python) 200제', '장삼용', '18000', '정보문화사', '2017년 02월 27일')\n",
      "(9, '[epub3.0] (Better Python Code)파이썬 코딩의 기술 51', '데이비드 메르츠 저자, 김진호 번역', '0', '길벗', '2024년 07월 18일')\n",
      "(10, '2024 빅데이터분석기사 실기 한권완성_ 파이썬(Python)', '최예신', '27000', '예문에듀', '2024년 05월 20일')\n",
      "(11, '누구나 할 수 있다 파이썬 Python 기초', '박빈', '0', '와이웨이브이퍼블리싱', '2024년 03월 22일')\n",
      "(12, '초보자를 위한 파이썬(Python) 200제', '장삼용', '0', '정보문화사', '2017년 03월 07일')\n",
      "(13, 'Head First Python', '우정은', '0', '한빛미디어', '2017년 12월 11일')\n",
      "(14, '파이썬 딥러닝 파이토치(Python Deep Learning PyTorch)', '이경택', '0', '정보문화사', '2020년 11월 27일')\n",
      "(15, '파이썬(Python) 3학년 머신러닝의 구조', '모리 요시나오', '16200', '성안당', '2023년 09월 20일')\n",
      "(16, '생활코딩! 파이썬', '이고잉', '16200', '범', '2020년 03월 23일')\n",
      "(17, '파이썬 딥러닝 파이토치(Python Deep Learning PyTorch)', '이경택', '22500', '정보문화사', '2020년 10월 08일')\n",
      "(18, '파이썬(Python)', '박병기', '0', '아티오', '2017년 01월 17일')\n",
      "(19, 'Python(파이썬)과 Matplotlib NumPy Pandas', '양원영', '0', '유페이퍼', '2021년 03월 17일')\n",
      "(20, '파이썬(Python) 3학년 머신러닝의 구조', '모리 요시나오', '0', '성안당', '2023년 09월 12일')\n"
     ]
    }
   ],
   "source": [
    "def select_all():\n",
    "    conn = pymysql.connect(\n",
    "        host='localhost',\n",
    "        user='ksh',\n",
    "        password='1234',\n",
    "        db='pydb',\n",
    "        charset='utf8')\n",
    "    cursor=conn.cursor()\n",
    "    sql=\"select * from book_tbl\"\n",
    "    cursor.execute(sql)\n",
    "    for book in cursor:\n",
    "        print(book)\n",
    "    conn.close()\n",
    "\n",
    "select_all()"
   ]
  }
 ],
 "metadata": {
  "kernelspec": {
   "display_name": "base",
   "language": "python",
   "name": "python3"
  },
  "language_info": {
   "codemirror_mode": {
    "name": "ipython",
    "version": 3
   },
   "file_extension": ".py",
   "mimetype": "text/x-python",
   "name": "python",
   "nbconvert_exporter": "python",
   "pygments_lexer": "ipython3",
   "version": "3.12.4"
  }
 },
 "nbformat": 4,
 "nbformat_minor": 2
}
