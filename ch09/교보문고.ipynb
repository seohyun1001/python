{
 "cells": [
  {
   "cell_type": "code",
   "execution_count": 5,
   "metadata": {},
   "outputs": [],
   "source": [
    "from bs4 import BeautifulSoup as soup\n",
    "import urllib.request as req\n",
    "base = 'https://search.kyobobook.co.kr/search?keyword=%ED%8C%8C%EC%9D%B4%EC%8D%AC&gbCode=TOT&target=total'\n",
    "book_list = []"
   ]
  },
  {
   "cell_type": "code",
   "execution_count": 33,
   "metadata": {},
   "outputs": [
    {
     "name": "stdout",
     "output_type": "stream",
     "text": [
      "28,800\n",
      "원\n",
      "22,500\n",
      "원\n",
      "25,200\n",
      "원\n",
      "34,200\n",
      "원\n",
      "32,400\n",
      "원\n",
      "무료도서\n",
      "18,000\n",
      "원\n",
      "19,800\n",
      "원\n",
      "16,200\n",
      "원\n",
      "27,000\n",
      "원\n",
      "16,200\n",
      "원\n",
      "22,500\n",
      "원\n",
      "15,300\n",
      "원\n"
     ]
    }
   ],
   "source": [
    "html = req.urlopen(base)\n",
    "bs = soup(html, 'html.parser')\n",
    "item_list = bs.select('#shopData_list > ul > li')\n",
    "for item in item_list:\n",
    "    # print(item)\n",
    "    title = item.select_one('div.prod_area.horizontal > div.prod_info_box > div.auto_overflow_wrap.prod_name_group > div.auto_overflow_contents > div > a')\n",
    "    title = title.text.strip().split('\\n')[-1]\n",
    "    # -1 : 인덱스의 역순 = 즉 마지막 인덱스\n",
    "    \n",
    "    author = item.select_one('div.prod_area.horizontal > div.prod_info_box > div.prod_author_info > div.auto_overflow_wrap.prod_author_group > div.auto_overflow_contents > div > a')\n",
    "    author = author.text.strip()\n",
    "\n",
    "    price = item.select_one('div.prod_area.horizontal > div.prod_info_box > div.prod_price > span.price')\n",
    "    if price == None:\n",
    "        price = '0원'\n",
    "    else:\n",
    "        print(price.text.strip())"
   ]
  }
 ],
 "metadata": {
  "kernelspec": {
   "display_name": "base",
   "language": "python",
   "name": "python3"
  },
  "language_info": {
   "codemirror_mode": {
    "name": "ipython",
    "version": 3
   },
   "file_extension": ".py",
   "mimetype": "text/x-python",
   "name": "python",
   "nbconvert_exporter": "python",
   "pygments_lexer": "ipython3",
   "version": "3.12.4"
  }
 },
 "nbformat": 4,
 "nbformat_minor": 2
}
