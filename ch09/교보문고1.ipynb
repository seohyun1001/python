{
 "cells": [
  {
   "cell_type": "code",
   "execution_count": 2,
   "metadata": {},
   "outputs": [],
   "source": [
    "from bs4 import BeautifulSoup as soup\n",
    "import urllib.request as req\n",
    "base = 'https://search.kyobobook.co.kr/search?keyword=%ED%8C%8C%EC%9D%B4%EC%8D%AC&gbCode=TOT&target=total'\n",
    "book_list = []"
   ]
  },
  {
   "cell_type": "code",
   "execution_count": 3,
   "metadata": {},
   "outputs": [
    {
     "name": "stdout",
     "output_type": "stream",
     "text": [
      "14,130\n",
      "원\n"
     ]
    },
    {
     "ename": "NameError",
     "evalue": "name 'save_image' is not defined",
     "output_type": "error",
     "traceback": [
      "\u001b[1;31m---------------------------------------------------------------------------\u001b[0m",
      "\u001b[1;31mNameError\u001b[0m                                 Traceback (most recent call last)",
      "Cell \u001b[1;32mIn[3], line 22\u001b[0m\n\u001b[0;32m     19\u001b[0m     img\u001b[38;5;241m=\u001b[39mitem\u001b[38;5;241m.\u001b[39mselect_one(\u001b[38;5;124m'\u001b[39m\u001b[38;5;124mdiv.prod_area.horizontal > div.prod_thumb_box.size_lg > a > span > img\u001b[39m\u001b[38;5;124m'\u001b[39m)\n\u001b[0;32m     20\u001b[0m \u001b[38;5;66;03m#print(img)\u001b[39;00m\n\u001b[0;32m     21\u001b[0m \u001b[38;5;66;03m#print(img['data-kbbfn-bid'])\u001b[39;00m\n\u001b[1;32m---> 22\u001b[0m     save_image(img[\u001b[38;5;124m'\u001b[39m\u001b[38;5;124mdata-kbbfn-bid\u001b[39m\u001b[38;5;124m'\u001b[39m]) \u001b[38;5;66;03m# 이미지 저장\u001b[39;00m\n\u001b[0;32m     23\u001b[0m     book\u001b[38;5;241m=\u001b[39m(title, info, author, \u001b[38;5;28mint\u001b[39m(price), pub, pub_date)\n\u001b[0;32m     24\u001b[0m     book_list\u001b[38;5;241m.\u001b[39mappend(book)\n",
      "\u001b[1;31mNameError\u001b[0m: name 'save_image' is not defined"
     ]
    }
   ],
   "source": [
    "html = req.urlopen(base)\n",
    "bs = soup(html, 'html.parser')\n",
    "item_list = bs.select('#shopData_list > ul > li')\n",
    "for item in item_list:\n",
    "    # print(item)\n",
    "    title = item.select_one('div.prod_area.horizontal > div.prod_info_box > div.auto_overflow_wrap.prod_name_group > div.auto_overflow_contents > div > a')\n",
    "    title = title.text.strip().split('\\n')[-1]\n",
    "    # -1 : 인덱스의 역순 = 즉 마지막 인덱스\n",
    "    \n",
    "    author = item.select_one('div.prod_area.horizontal > div.prod_info_box > div.prod_author_info > div.auto_overflow_wrap.prod_author_group > div.auto_overflow_contents > div > a')\n",
    "    author = author.text.strip()\n",
    "\n",
    "    price = item.select_one('div.prod_area.horizontal > div.prod_info_box > div.prod_price > span.price')\n",
    "    if price == None:\n",
    "        price = '0원'\n",
    "    else:\n",
    "        print(price.text.strip())\n",
    "\n",
    "    img=item.select_one('div.prod_area.horizontal > div.prod_thumb_box.size_lg > a > span > img')\n",
    "    save_image(img['data-kbbfn-bid'])\n",
    "    book=(title,author, int(price))\n",
    "    book_list.append(book)"
   ]
  },
  {
   "cell_type": "code",
   "execution_count": null,
   "metadata": {},
   "outputs": [],
   "source": []
  }
 ],
 "metadata": {
  "kernelspec": {
   "display_name": "base",
   "language": "python",
   "name": "python3"
  },
  "language_info": {
   "codemirror_mode": {
    "name": "ipython",
    "version": 3
   },
   "file_extension": ".py",
   "mimetype": "text/x-python",
   "name": "python",
   "nbconvert_exporter": "python",
   "pygments_lexer": "ipython3",
   "version": "3.12.4"
  }
 },
 "nbformat": 4,
 "nbformat_minor": 2
}
