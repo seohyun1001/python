{
 "cells": [
  {
   "cell_type": "code",
   "execution_count": 11,
   "metadata": {},
   "outputs": [
    {
     "name": "stdout",
     "output_type": "stream",
     "text": [
      "Requirement already satisfied: selenium in c:\\users\\it\\anaconda3\\lib\\site-packages (4.23.1)\n",
      "Requirement already satisfied: urllib3<3,>=1.26 in c:\\users\\it\\anaconda3\\lib\\site-packages (from urllib3[socks]<3,>=1.26->selenium) (2.2.2)\n",
      "Requirement already satisfied: trio~=0.17 in c:\\users\\it\\anaconda3\\lib\\site-packages (from selenium) (0.26.0)\n",
      "Requirement already satisfied: trio-websocket~=0.9 in c:\\users\\it\\anaconda3\\lib\\site-packages (from selenium) (0.11.1)\n",
      "Requirement already satisfied: certifi>=2021.10.8 in c:\\users\\it\\anaconda3\\lib\\site-packages (from selenium) (2024.6.2)\n",
      "Requirement already satisfied: typing_extensions~=4.9 in c:\\users\\it\\anaconda3\\lib\\site-packages (from selenium) (4.11.0)\n",
      "Requirement already satisfied: websocket-client~=1.8 in c:\\users\\it\\anaconda3\\lib\\site-packages (from selenium) (1.8.0)\n",
      "Requirement already satisfied: attrs>=23.2.0 in c:\\users\\it\\anaconda3\\lib\\site-packages (from trio~=0.17->selenium) (23.2.0)\n",
      "Requirement already satisfied: sortedcontainers in c:\\users\\it\\anaconda3\\lib\\site-packages (from trio~=0.17->selenium) (2.4.0)\n",
      "Requirement already satisfied: idna in c:\\users\\it\\anaconda3\\lib\\site-packages (from trio~=0.17->selenium) (3.7)\n",
      "Requirement already satisfied: outcome in c:\\users\\it\\anaconda3\\lib\\site-packages (from trio~=0.17->selenium) (1.3.0.post0)\n",
      "Requirement already satisfied: sniffio>=1.3.0 in c:\\users\\it\\anaconda3\\lib\\site-packages (from trio~=0.17->selenium) (1.3.0)\n",
      "Requirement already satisfied: cffi>=1.14 in c:\\users\\it\\anaconda3\\lib\\site-packages (from trio~=0.17->selenium) (1.16.0)\n",
      "Requirement already satisfied: wsproto>=0.14 in c:\\users\\it\\anaconda3\\lib\\site-packages (from trio-websocket~=0.9->selenium) (1.2.0)\n",
      "Requirement already satisfied: pysocks!=1.5.7,<2.0,>=1.5.6 in c:\\users\\it\\anaconda3\\lib\\site-packages (from urllib3[socks]<3,>=1.26->selenium) (1.7.1)\n",
      "Requirement already satisfied: pycparser in c:\\users\\it\\anaconda3\\lib\\site-packages (from cffi>=1.14->trio~=0.17->selenium) (2.21)\n",
      "Requirement already satisfied: h11<1,>=0.9.0 in c:\\users\\it\\anaconda3\\lib\\site-packages (from wsproto>=0.14->trio-websocket~=0.9->selenium) (0.14.0)\n"
     ]
    }
   ],
   "source": [
    "! pip install selenium"
   ]
  },
  {
   "cell_type": "code",
   "execution_count": 29,
   "metadata": {},
   "outputs": [],
   "source": [
    "from selenium import webdriver\n",
    "from selenium.webdriver.common.keys import Keys\n",
    "from selenium.webdriver.common.by import By"
   ]
  },
  {
   "cell_type": "code",
   "execution_count": 13,
   "metadata": {},
   "outputs": [],
   "source": [
    "driver=webdriver.Chrome()\n",
    "driver.get(\"http://www.google.com/ncr\")\n",
    "#target=driver.find_element(By.CSS_SELECTOR,\"[name='q']\")\n",
    "#target=driver.find_element(By.ID,\"APjFqb\")\n",
    "#target=driver.find_element(By.CLASS_NAME,\"gLFyf\")\n",
    "#target=driver.find_element(By.TAG_NAME,\"textarea\")\n",
    "target=driver.find_element(By.CSS_SELECTOR,\"#APjFqb\")\n",
    "#target=driver.find_element(By.CSS_SELECT,\"\")\n",
    "target.send_keys('파이썬')\n",
    "target.send_keys(Keys.ENTER)\n",
    "#driver.quit()"
   ]
  },
  {
   "cell_type": "code",
   "execution_count": 14,
   "metadata": {},
   "outputs": [
    {
     "name": "stdout",
     "output_type": "stream",
     "text": [
      "None\n"
     ]
    }
   ],
   "source": [
    "import urllib.request as req\n",
    "from bs4 import BeautifulSoup as soup\n",
    "\n",
    "server=req.urlopen('https://www.starbucks.co.kr/store/store_map.do')\n",
    "res=server.read().decode('utf-8')\n",
    "bs=soup(res, 'html.parser')\n",
    "li_list=bs.select_one('#mCSB_1_container > ul > li')\n",
    "print(li_list)"
   ]
  },
  {
   "cell_type": "code",
   "execution_count": 15,
   "metadata": {},
   "outputs": [
    {
     "name": "stdout",
     "output_type": "stream",
     "text": [
      "서면역\n",
      "부산광역시 부산진구 서전로 1 (부전동)\n",
      "1522-3232\n",
      "리저브 매장 2번\n",
      "부산서면중앙로\n",
      "부산광역시 부산진구 중앙대로 701 (부전동)\n",
      "1522-3232\n",
      "리저브 매장 2번\n",
      "서면중앙\n",
      "부산광역시 부산진구 서면로68번길 1 (부전동)\n",
      "1522-3232\n",
      "리저브 매장 2번\n",
      "\n",
      "\n",
      "\n",
      "\n",
      "\n",
      "\n",
      "\n",
      "\n",
      "\n",
      "\n",
      "\n",
      "\n",
      "\n",
      "\n",
      "\n",
      "\n",
      "\n",
      "\n",
      "\n",
      "\n",
      "\n",
      "\n",
      "\n",
      "\n",
      "\n",
      "\n",
      "\n"
     ]
    }
   ],
   "source": [
    "from selenium import webdriver\n",
    "from selenium.webdriver.common.by import By\n",
    "\n",
    "driver=webdriver.Chrome()\n",
    "driver.implicitly_wait(3)\n",
    "driver.get('https://www.starbucks.co.kr/store/store_map.do')\n",
    "#targets=driver.find_elements(By.CLASS_NAME, 'quickResultLstCon')\n",
    "targets=driver.find_elements(By.CSS_SELECTOR, '#mCSB_1_container > ul > li')\n",
    "for item in targets:\n",
    "  print(item.text)"
   ]
  },
  {
   "cell_type": "code",
   "execution_count": 24,
   "metadata": {},
   "outputs": [],
   "source": [
    "from selenium import webdriver\n",
    "from selenium.webdriver.common.by import By\n",
    "import time\n",
    "\n",
    "driver=webdriver.Chrome()\n",
    "driver.implicitly_wait(3)\n",
    "driver.get('https://www.starbucks.co.kr/store/store_map.do')"
   ]
  },
  {
   "cell_type": "code",
   "execution_count": 25,
   "metadata": {},
   "outputs": [
    {
     "name": "stdout",
     "output_type": "stream",
     "text": [
      "서면문화로\n",
      "부산광역시 부산진구 서면문화로 10 (부전동)\n",
      "1522-3232\n",
      "리저브 매장 2번\n",
      "서면엠디엠타워\n",
      "부산광역시 부산진구 중앙대로 639 (범천동)\n",
      "1522-3232\n",
      "리저브 매장 2번\n",
      "초읍대공원\n",
      "부산광역시 부산진구 성지곡로 6 (초읍동)\n",
      "1522-3232\n",
      "리저브 매장 2번\n",
      "\n",
      "\n",
      "\n",
      "\n",
      "\n",
      "\n",
      "\n",
      "\n",
      "\n",
      "\n",
      "\n",
      "\n",
      "\n",
      "\n",
      "\n"
     ]
    }
   ],
   "source": [
    "s_link=driver.find_element(By.CSS_SELECTOR,'#container > div > form > fieldset > div > section > article.find_store_cont > article > header.loca_search > h3 > a')\n",
    "s_link.click()\n",
    "\n",
    "# s_link2=driver.find_element(By.CSS_SELECTOR,'div.loca_step1 > div.loca_step1_cont > ul > li:nth-child(1) > a')\n",
    "# 부산 진구 \n",
    "s_link2=driver.find_element(By.CSS_SELECTOR,'div.loca_step1 > div.loca_step1_cont > ul > li:nth-child(6) > a')\n",
    "s_link2.click()\n",
    "\n",
    "# s_link3=driver.find_element(By.CSS_SELECTOR,'#mCSB_2_container > ul > li:nth-child(2) > a')\n",
    "s_link3=driver.find_element(By.CSS_SELECTOR,'#mCSB_2_container > ul > li:nth-child(8) > a')\n",
    "s_link3.click()\n",
    "\n",
    "shop_list=driver.find_elements(By.CSS_SELECTOR,'#mCSB_3_container > ul > li')\n",
    "\n",
    "for shop in shop_list:\n",
    "  print(shop.text)\n"
   ]
  },
  {
   "cell_type": "code",
   "execution_count": 26,
   "metadata": {},
   "outputs": [
    {
     "name": "stdout",
     "output_type": "stream",
     "text": [
      "18\n",
      "('서면문화로', '35.15885783683483', '129.057495917852', '부산광역시 부산진구 서면문화로 10 (부전동)', '1522-3232')\n",
      "('서면엠디엠타워', '35.14952733402157', '129.05889300302496', '부산광역시 부산진구 중앙대로 639 (범천동)', '1522-3232')\n",
      "('초읍대공원', '35.1828193069829', '129.04748360769', '부산광역시 부산진구 성지곡로 6 (초읍동)', '1522-3232')\n",
      "('서면트레이더스', '35.163831285849966', '129.0530396365257', '부산광역시 부산진구 시민공원로 31 (부암동)', '1522-3232')\n",
      "('서면중앙', '35.15685353046891', '129.05798035954555', '부산광역시 부산진구 서면로68번길 1 (부전동)', '1522-3232')\n",
      "('서면메디컬거리', '35.157961', '129.05740949999995', '부산광역시 부산진구 가야대로 783-1, 1층 (부전동)', '1522-3232')\n",
      "('서면센트럴스퀘어', '35.1516177133099', '129.06089873180213', '부산광역시 부산진구 중앙대로666번길 50 (부전동)', '1522-3232')\n",
      "('부전역', '35.16181113722542', '129.06201461279443', '부산광역시 부산진구 중앙대로 777, 서면호텔 복합시설1,2층 (부전동)', '1522-3232')\n",
      "('서면역', '35.15789381388878', '129.0600009198993', '부산광역시 부산진구 서전로 1 (부전동)', '1522-3232')\n",
      "('부산서면', '35.154098', '129.061562', '부산광역시 부산진구 중앙대로692번길 46-10 (부전동)', '1522-3232')\n",
      "('서면서전로', '35.157919185437365', '129.0619520174245', '부산광역시 부산진구 서전로 19 (부전동)', '1522-3232')\n",
      "('부산서면중앙로', '35.1554897646539', '129.0589527478538', '부산광역시 부산진구 중앙대로 701 (부전동)', '1522-3232')\n",
      "('서면전포역', '35.154364828346324', '129.06362887930075', '부산광역시 부산진구 전포대로199번길 27 (전포동)', '1522-3232')\n",
      "('부산개금역', '35.1529820637631', '129.02259825927663', '부산광역시 부산진구 가야대로 462 (개금동)', '1522-3232')\n",
      "('동의대역', '35.15495095970587', '129.03618733441533', '부산광역시 부산진구 가야대로 589 (가야제1동)', '1522-3232')\n",
      "('양정역', '35.170171720959104', '129.0692742371578', '부산광역시 부산진구 중앙대로 894 (양정동)', '1522-3232')\n",
      "('서면로R', '35.15524851626055', '129.0576381743508', '부산광역시 부산진구 서면로 49-1 (부전동)', '1522-3232')\n",
      "('서면중앙대로R', '35.15286800166649', '129.05944626017197', '부산광역시 부산진구 중앙대로 672 (부전동) 1층 2층', '1522-3232')\n"
     ]
    }
   ],
   "source": [
    "temp_list=[]\n",
    "time.sleep(2)\n",
    "count=0\n",
    "total=len(shop_list);print(total)\n",
    "\n",
    "for shop in shop_list:\n",
    "  count+=1\n",
    "  shoplat=shop.get_attribute('data-lat')\n",
    "  shoplong=shop.get_attribute('data-long')\n",
    "  #print(shoplat, shoplong)\n",
    "  shopname=shop.find_element(By.TAG_NAME,'strong')\n",
    "  shopinfo=shop.find_element(By.TAG_NAME,'p')\n",
    "  shopinfo2=shopinfo.text.split(\"\\n\")\n",
    "  if(len(shopinfo2)==2):\n",
    "    shopaddr=shopinfo2[0]\n",
    "    shopphon=shopinfo2[1]\n",
    "\n",
    "  temp=(shopname.text, shoplat, shoplong, shopaddr, shopphon)\n",
    "  temp_list.append(temp)\n",
    "  \n",
    "  if count != total and count %3==0:\n",
    "    driver.execute_script(\"var su=arguments[0]; \\\n",
    "      var dom=document.querySelectorAll('#mCSB_3_container > ul > li')[su];\\\n",
    "                              dom.scrollIntoView();\",count)\n",
    "\n",
    "for shop in temp_list:\n",
    "   print(shop)\n",
    "  #print(shopname.text, shoplat, shoplong, shopaddr, shopphon"
   ]
  },
  {
   "cell_type": "code",
   "execution_count": 30,
   "metadata": {},
   "outputs": [],
   "source": [
    "import pandas as pd\n",
    "df=pd.DataFrame(temp_list, \n",
    "                columns=['점포명','위도','경도','주소','전화번호'])\n",
    "df.to_csv('./starbucks_list.csv', index=False)"
   ]
  },
  {
   "cell_type": "code",
   "execution_count": 31,
   "metadata": {},
   "outputs": [],
   "source": [
    "import pymysql\n",
    "\n",
    "def insert_list(lists):\n",
    "    conn = pymysql.connect( #pymysql 라이브러리 사용 DB연결\n",
    "        host='localhost',\n",
    "        user='ksh',\n",
    "        password='1234',\n",
    "        db='pydb',\n",
    "        charset='utf8')\n",
    "    cursor=conn.cursor()\n",
    "    sql=\"insert into temp_list(점포명,위도,경도,주소,전화번호) values(%s,%s,%s,%s,%s)\"\n",
    "    cursor.executemany(sql, lists)\n",
    "    conn.commit()\n",
    "    conn.close()\n",
    "\n",
    "insert_list(temp_list)\n"
   ]
  },
  {
   "cell_type": "code",
   "execution_count": 32,
   "metadata": {},
   "outputs": [
    {
     "name": "stdout",
     "output_type": "stream",
     "text": [
      "(1, '서면문화로', '35.15885783683483', '129.057495917852', '부산광역시 부산진구 서면문화로 10 (부전동)', '1522-3232')\n",
      "(2, '서면엠디엠타워', '35.14952733402157', '129.05889300302496', '부산광역시 부산진구 중앙대로 639 (범천동)', '1522-3232')\n",
      "(3, '초읍대공원', '35.1828193069829', '129.04748360769', '부산광역시 부산진구 성지곡로 6 (초읍동)', '1522-3232')\n",
      "(4, '서면트레이더스', '35.163831285849966', '129.0530396365257', '부산광역시 부산진구 시민공원로 31 (부암동)', '1522-3232')\n",
      "(5, '서면중앙', '35.15685353046891', '129.05798035954555', '부산광역시 부산진구 서면로68번길 1 (부전동)', '1522-3232')\n",
      "(6, '서면메디컬거리', '35.157961', '129.05740949999995', '부산광역시 부산진구 가야대로 783-1, 1층 (부전동)', '1522-3232')\n",
      "(7, '서면센트럴스퀘어', '35.1516177133099', '129.06089873180213', '부산광역시 부산진구 중앙대로666번길 50 (부전동)', '1522-3232')\n",
      "(8, '부전역', '35.16181113722542', '129.06201461279443', '부산광역시 부산진구 중앙대로 777, 서면호텔 복합시설1,2층 (부전동)', '1522-3232')\n",
      "(9, '서면역', '35.15789381388878', '129.0600009198993', '부산광역시 부산진구 서전로 1 (부전동)', '1522-3232')\n",
      "(10, '부산서면', '35.154098', '129.061562', '부산광역시 부산진구 중앙대로692번길 46-10 (부전동)', '1522-3232')\n",
      "(11, '서면서전로', '35.157919185437365', '129.0619520174245', '부산광역시 부산진구 서전로 19 (부전동)', '1522-3232')\n",
      "(12, '부산서면중앙로', '35.1554897646539', '129.0589527478538', '부산광역시 부산진구 중앙대로 701 (부전동)', '1522-3232')\n",
      "(13, '서면전포역', '35.154364828346324', '129.06362887930075', '부산광역시 부산진구 전포대로199번길 27 (전포동)', '1522-3232')\n",
      "(14, '부산개금역', '35.1529820637631', '129.02259825927663', '부산광역시 부산진구 가야대로 462 (개금동)', '1522-3232')\n",
      "(15, '동의대역', '35.15495095970587', '129.03618733441533', '부산광역시 부산진구 가야대로 589 (가야제1동)', '1522-3232')\n",
      "(16, '양정역', '35.170171720959104', '129.0692742371578', '부산광역시 부산진구 중앙대로 894 (양정동)', '1522-3232')\n",
      "(17, '서면로R', '35.15524851626055', '129.0576381743508', '부산광역시 부산진구 서면로 49-1 (부전동)', '1522-3232')\n",
      "(18, '서면중앙대로R', '35.15286800166649', '129.05944626017197', '부산광역시 부산진구 중앙대로 672 (부전동) 1층 2층', '1522-3232')\n"
     ]
    }
   ],
   "source": [
    "def select_all():\n",
    "    conn = pymysql.connect(\n",
    "        host='localhost',\n",
    "        user='ksh',\n",
    "        password='1234',\n",
    "        db='pydb',\n",
    "        charset='utf8')\n",
    "    cursor=conn.cursor()\n",
    "    sql=\"select * from temp_list\"\n",
    "    cursor.execute(sql)\n",
    "    for list in cursor:\n",
    "        print(list)\n",
    "    conn.close()\n",
    "\n",
    "select_all()"
   ]
  },
  {
   "cell_type": "markdown",
   "metadata": {},
   "source": [
    "부산 진구의 매장정보"
   ]
  }
 ],
 "metadata": {
  "kernelspec": {
   "display_name": "base",
   "language": "python",
   "name": "python3"
  },
  "language_info": {
   "codemirror_mode": {
    "name": "ipython",
    "version": 3
   },
   "file_extension": ".py",
   "mimetype": "text/x-python",
   "name": "python",
   "nbconvert_exporter": "python",
   "pygments_lexer": "ipython3",
   "version": "3.12.4"
  }
 },
 "nbformat": 4,
 "nbformat_minor": 2
}
