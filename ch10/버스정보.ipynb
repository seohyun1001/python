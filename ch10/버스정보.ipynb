{
 "cells": [
  {
   "cell_type": "code",
   "execution_count": 8,
   "metadata": {},
   "outputs": [],
   "source": [
    "# 노선번호를 이용하여 버스 노선정보를 조회하여 파일에 저장\n",
    "import urllib.request as req\n",
    "from bs4 import BeautifulSoup as bs\n"
   ]
  },
  {
   "cell_type": "code",
   "execution_count": 13,
   "metadata": {},
   "outputs": [
    {
     "data": {
      "text/plain": [
       "('./businfo.xml', <http.client.HTTPMessage at 0x2298a8a0c80>)"
      ]
     },
     "execution_count": 13,
     "metadata": {},
     "output_type": "execute_result"
    }
   ],
   "source": [
    "# API key\n",
    "key='OZMZjB5InsoJu%2FpOv0C12iG18R98mNEYkVuIrLqMQF5pROiKGJvJfNi8tBKV%2BH2jKvr2VMzC9IgvzRTw7jA8cg%3D%3D'\n",
    "lineno=179\n",
    "\n",
    "url='http://apis.data.go.kr/6260000/BusanBIMS/busInfo'\n",
    "params='?ServiceKey='+key+'&lineno='+str(lineno)\n",
    "savepath='./businfo.xml'\n",
    "req.urlretrieve(url+params, savepath)"
   ]
  },
  {
   "cell_type": "code",
   "execution_count": 14,
   "metadata": {},
   "outputs": [
    {
     "name": "stdout",
     "output_type": "stream",
     "text": [
      "179 5200179000\n"
     ]
    }
   ],
   "source": [
    "# 파일에 저장된 노선 정보로부터 노선 Id(lineid) 얻기\n",
    "xml=open(savepath, 'r', encoding='utf-8').read()\n",
    "soup=bs(xml, 'xml')\n",
    "lineId=None\n",
    "#print(soup.find_all('item'))\n",
    "for item in soup.find_all('item'):\n",
    "    busno=item.find('buslinenum').text\n",
    "    lineid=item.find('lineid').text\n",
    "    if busno==lineno:\n",
    "        break\n",
    "print(busno, lineid)"
   ]
  },
  {
   "cell_type": "code",
   "execution_count": 15,
   "metadata": {},
   "outputs": [
    {
     "data": {
      "text/plain": [
       "('./busposition.xml', <http.client.HTTPMessage at 0x2298a8a21e0>)"
      ]
     },
     "execution_count": 15,
     "metadata": {},
     "output_type": "execute_result"
    }
   ],
   "source": [
    "# 노선id(lineid)를 활용하여 노선 정류소 조회를 파일로 저장\n",
    "url2='http://apis.data.go.kr/6260000/BusanBIMS/busInfoByRouteId'\n",
    "params2='?ServiceKey='+key+'&lineid='+str(lineid)\n",
    "savepath2='./busposition.xml'\n",
    "req.urlretrieve(url2+params2, savepath2)"
   ]
  },
  {
   "cell_type": "code",
   "execution_count": 16,
   "metadata": {},
   "outputs": [
    {
     "name": "stdout",
     "output_type": "stream",
     "text": [
      "[('회동동', 0, 0), ('회동본동', 0, 0), ('욱성화학(주)', 0, 0), ('부산예원고등학교', 0, 0), ('중소기업은행', 0, 0), ('금사시장', 0, 0), ('금사중학입구', '35.2178880', '129.1097984'), ('라이프타운', 0, 0), ('서3치안센터', 0, 0), ('책마을보드랑 작은도서관', 0, 0), ('서1동새마을금고', 0, 0), ('서동고개', '35.2176128', '129.0952704'), ('내성고등학교', 0, 0), ('부곡1치안센터', 0, 0), ('부곡4동주민센터.온천장역', 0, 0), ('동해중학교', 0, 0), ('온천입구', 0, 0), ('동래구노인복지관', '35.2137056', '129.0831872'), ('동래우체국', 0, 0), ('명륜교차로', 0, 0), ('동래전화국', 0, 0), ('동래경찰서', 0, 0), ('세병교', '35.1978496', '129.0838784'), ('동해선교대역', 0, 0), ('연산역.연산교차로', 0, 0), ('연산역.연제초교', '35.1847392', '129.0804736'), ('부산시청', 0, 0), ('상수도사업본부', 0, 0), ('백조아파트', '35.1745696', '129.0680576'), ('하마정', 0, 0), ('정묘사', 0, 0), ('화인아파트', 0, 0), ('부산시민공원', 0, 0), ('연지일동아파트', 0, 0), ('부암고가교', '35.1679008', '129.0497408'), ('동원아파트.협성휴포레', 0, 0), ('부암새고개', 0, 0), ('당감시장', 0, 0), ('당감사거리', 0, 0), ('당감4동', 0, 0), ('개성고등학교입구', 0, 0), ('백양로교회앞', '35.1645696', '129.0317824'), ('개원초등학교', 0, 0), ('국제백양아파트', 0, 0), ('백양터널', '35.1715360', '129.0250368'), ('당감동일스위트', 0, 0), ('국제프라자아파트', 0, 0), ('화인아파트', '35.1657280', '129.0287872'), ('백양로교회앞', 0, 0), ('개성고등학교입구', 0, 0), ('태을의원', 0, 0), ('당감사거리', 0, 0), ('당감시장', '35.1658208', '129.0407296'), ('부암새고개', 0, 0), ('동원아파트', 0, 0), ('부암고가교', '35.1674400', '129.0494976'), ('연지일동아파트', 0, 0), ('부산시민공원', 0, 0), ('화인아파트', 0, 0), ('정묘사', '35.1740672', '129.0613888'), ('양정현대아파트', 0, 0), ('백조아파트', 0, 0), ('상수도사업본부', '35.1784928', '129.0755328'), ('부산시청', 0, 0), ('연산역.연제초교', 0, 0), ('연산역.연산교차로', '35.1869536', '129.0814720'), ('동해선교대역', 0, 0), ('교대역', 0, 0), ('세병교', 0, 0), ('동래경찰서.수안역', 0, 0), ('동래전화국', 0, 0), ('명륜교차로', 0, 0), ('동래우체국', 0, 0), ('동래구노인복지관', 0, 0), ('온천입구', 0, 0), ('동해중학교', 0, 0), ('부곡4동주민센터.온천장역', '35.2222528', '129.0906624'), ('부곡1치안센터', '35.2220992', '129.0910080'), ('내성고등학교', 0, 0), ('서동고개', 0, 0), ('서1동새마을금고', 0, 0), ('책마을보드랑 작은도서관', 0, 0), ('세웅병원후문', '35.2134848', '129.1045504'), ('부산은행', 0, 0), ('금사입구', 0, 0), ('금사중학교', 0, 0), ('금사회동동주민센터', 0, 0), ('금사시장', 0, 0), ('동일고무벨트', 0, 0), ('부산예원고등학교', 0, 0), ('욱성화학(주)', 0, 0), ('회동본동', 0, 0), ('회동동', '35.2301792', '129.1236864')]\n"
     ]
    }
   ],
   "source": [
    "# 버스의 실시간 위치 추출\n",
    "xml2=open(savepath2, 'r', encoding='utf-8').read()\n",
    "soup=bs(xml2,'xml')\n",
    "busPos_list=[]\n",
    "for item in soup.find_all('item'):\n",
    "    bstopnm=item.find('bstopnm')\n",
    "    lat=item.find('lat')\n",
    "    lon=item.find('lin')\n",
    "    if bstopnm==None: bstopnm='-'\n",
    "    else: bstopnm=bstopnm.text\n",
    "    if lat==None: lat=0\n",
    "    else: lat=lat.text\n",
    "    if lon==None: lon=0\n",
    "    else: lon=lon.text\n",
    "    busPos=(bstopnm, lat, lon)\n",
    "    busPos_list.append(busPos)\n",
    "print(busPos_list)"
   ]
  },
  {
   "cell_type": "code",
   "execution_count": null,
   "metadata": {},
   "outputs": [],
   "source": []
  }
 ],
 "metadata": {
  "kernelspec": {
   "display_name": "base",
   "language": "python",
   "name": "python3"
  },
  "language_info": {
   "codemirror_mode": {
    "name": "ipython",
    "version": 3
   },
   "file_extension": ".py",
   "mimetype": "text/x-python",
   "name": "python",
   "nbconvert_exporter": "python",
   "pygments_lexer": "ipython3",
   "version": "3.12.4"
  }
 },
 "nbformat": 4,
 "nbformat_minor": 2
}
